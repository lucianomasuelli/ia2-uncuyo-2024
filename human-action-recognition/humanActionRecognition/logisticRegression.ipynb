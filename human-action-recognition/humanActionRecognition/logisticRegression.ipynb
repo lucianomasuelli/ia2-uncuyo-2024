{
 "cells": [
  {
   "cell_type": "code",
   "id": "initial_id",
   "metadata": {
    "collapsed": true,
    "ExecuteTime": {
     "end_time": "2024-12-11T15:12:01.072985Z",
     "start_time": "2024-12-11T15:12:01.069550Z"
    }
   },
   "source": [
    "import numpy as np\n",
    "import pandas as pd\n",
    "import os\n",
    "from sklearn.linear_model import LogisticRegression\n",
    "from sklearn.metrics import classification_report, accuracy_score\n",
    "from sklearn.model_selection import train_test_split\n",
    "from tensorflow.keras.utils import to_categorical\n",
    "from sklearn.preprocessing import LabelEncoder\n",
    "from sklearn.linear_model import SGDClassifier\n",
    "import cv2\n",
    "\n",
    "# To ignore warnings\n",
    "import warnings\n",
    "warnings.filterwarnings(\"ignore\")"
   ],
   "outputs": [],
   "execution_count": 13
  },
  {
   "metadata": {
    "ExecuteTime": {
     "end_time": "2024-12-11T15:12:01.131827Z",
     "start_time": "2024-12-11T15:12:01.123438Z"
    }
   },
   "cell_type": "code",
   "source": [
    "# Generador para cargar imágenes y etiquetas en batches\n",
    "def image_batch_generator(df, image_dir, target_size=(180, 180), batch_size=32):\n",
    "    num_samples = len(df)\n",
    "    while True:  # Generador infinito\n",
    "        for offset in range(0, num_samples, batch_size):\n",
    "            batch_df = df.iloc[offset:offset + batch_size]\n",
    "            images = []\n",
    "            labels = []\n",
    "\n",
    "            for _, row in batch_df.iterrows():\n",
    "                image_path = os.path.join(image_dir, row['label'], row['filename'])\n",
    "                image = cv2.imread(image_path, cv2.IMREAD_GRAYSCALE)\n",
    "                if image is None:\n",
    "                    print(f\"Error cargando la imagen: {image_path}\")\n",
    "                    continue\n",
    "                # Preprocesar la imagen: redimensionar, normalizar, y aplanar\n",
    "                image = cv2.resize(image, target_size)\n",
    "                image = image.flatten()  # Convertir a vector unidimensional\n",
    "                image = image.astype('float32') / 255.0\n",
    "                images.append(image)\n",
    "                labels.append(row['label'])\n",
    "\n",
    "            yield np.array(images), np.array(labels)\n"
   ],
   "id": "9fe5eec1bf54f659",
   "outputs": [],
   "execution_count": 14
  },
  {
   "metadata": {
    "ExecuteTime": {
     "end_time": "2024-12-11T15:12:01.205112Z",
     "start_time": "2024-12-11T15:12:01.182274Z"
    }
   },
   "cell_type": "code",
   "source": [
    "# Cargar datos desde los CSV\n",
    "train_df = pd.read_csv(\"data/Training_set.csv\")\n",
    "test_df = pd.read_csv(\"data/Testing_set.csv\")"
   ],
   "id": "924bc04e38e066c",
   "outputs": [],
   "execution_count": 15
  },
  {
   "metadata": {
    "ExecuteTime": {
     "end_time": "2024-12-11T15:12:01.253224Z",
     "start_time": "2024-12-11T15:12:01.240846Z"
    }
   },
   "cell_type": "code",
   "source": [
    "# Convertir las etiquetas a números\n",
    "encoder = LabelEncoder()\n",
    "y_train_encoded = encoder.fit_transform(train_df['label'])\n",
    "y_test_encoded = encoder.transform(test_df['label'])"
   ],
   "id": "871b11f3cba1a5c2",
   "outputs": [],
   "execution_count": 16
  },
  {
   "metadata": {
    "ExecuteTime": {
     "end_time": "2024-12-11T15:12:01.309588Z",
     "start_time": "2024-12-11T15:12:01.303863Z"
    }
   },
   "cell_type": "code",
   "source": [
    "# Configurar el modelo de regresión logística con entrenamiento incremental\n",
    "logistic_model = SGDClassifier(loss=\"log_loss\", max_iter=1, warm_start=True)"
   ],
   "id": "984f6235aa1fa593",
   "outputs": [],
   "execution_count": 17
  },
  {
   "metadata": {
    "ExecuteTime": {
     "end_time": "2024-12-11T15:15:07.011263Z",
     "start_time": "2024-12-11T15:12:01.366323Z"
    }
   },
   "cell_type": "code",
   "source": [
    "# Entrenar manualmente con batches\n",
    "batch_size = 32\n",
    "num_epochs = 10\n",
    "\n",
    "for epoch in range(num_epochs):\n",
    "    print(f\"Epoch {epoch+1}/{num_epochs}\")\n",
    "    batch_generator = image_batch_generator(train_df, \"data/train\", batch_size=batch_size)\n",
    "\n",
    "    for X_batch, y_batch in batch_generator:\n",
    "        y_batch_encoded = encoder.transform(y_batch)  # Codificar etiquetas del batch\n",
    "        logistic_model.partial_fit(X_batch, y_batch_encoded, classes=np.unique(y_train_encoded))\n",
    "        if len(X_batch) < batch_size:\n",
    "            break  # Termina la época cuando ya no hay más batches\n",
    "            "
   ],
   "id": "577517087ce3aea6",
   "outputs": [
    {
     "name": "stdout",
     "output_type": "stream",
     "text": [
      "Epoch 1/10\n",
      "Epoch 2/10\n",
      "Epoch 3/10\n",
      "Epoch 4/10\n",
      "Epoch 5/10\n",
      "Epoch 6/10\n",
      "Epoch 7/10\n",
      "Epoch 8/10\n",
      "Epoch 9/10\n",
      "Epoch 10/10\n"
     ]
    }
   ],
   "execution_count": 18
  },
  {
   "metadata": {
    "ExecuteTime": {
     "end_time": "2024-12-11T15:15:07.227367Z",
     "start_time": "2024-12-11T15:15:07.031120Z"
    }
   },
   "cell_type": "code",
   "source": [
    "# Evaluar en el conjunto de prueba\n",
    "test_generator = image_batch_generator(test_df, \"data/test\", batch_size=batch_size)\n",
    "X_test, y_test = next(test_generator)  # Cargar todos los datos de prueba\n",
    "y_test_encoded = encoder.transform(y_test)\n",
    "\n",
    "y_pred_test = logistic_model.predict(X_test)\n",
    "print(\"Test Accuracy:\", accuracy_score(y_test_encoded, y_pred_test))\n",
    "print(\"\\nClassification Report:\")\n",
    "print(classification_report(y_test_encoded, y_pred_test))"
   ],
   "id": "ab6143abc8f08a0f",
   "outputs": [
    {
     "name": "stdout",
     "output_type": "stream",
     "text": [
      "Test Accuracy: 0.15625\n",
      "\n",
      "Classification Report:\n",
      "              precision    recall  f1-score   support\n",
      "\n",
      "           0       0.00      0.00      0.00         2\n",
      "           1       0.00      0.00      0.00         2\n",
      "           2       0.00      0.00      0.00         7\n",
      "           3       0.00      0.00      0.00         2\n",
      "           4       0.00      0.00      0.00         1\n",
      "           5       0.00      0.00      0.00         2\n",
      "           6       0.22      1.00      0.36         4\n",
      "           7       0.00      0.00      0.00         2\n",
      "           8       0.00      0.00      0.00         0\n",
      "           9       0.00      0.00      0.00         3\n",
      "          10       0.00      0.00      0.00         1\n",
      "          11       0.00      0.00      0.00         1\n",
      "          12       0.00      0.00      0.00         2\n",
      "          13       1.00      1.00      1.00         1\n",
      "          14       0.00      0.00      0.00         2\n",
      "\n",
      "    accuracy                           0.16        32\n",
      "   macro avg       0.08      0.13      0.09        32\n",
      "weighted avg       0.06      0.16      0.08        32\n",
      "\n"
     ]
    }
   ],
   "execution_count": 19
  }
 ],
 "metadata": {
  "kernelspec": {
   "display_name": "Python 3",
   "language": "python",
   "name": "python3"
  },
  "language_info": {
   "codemirror_mode": {
    "name": "ipython",
    "version": 2
   },
   "file_extension": ".py",
   "mimetype": "text/x-python",
   "name": "python",
   "nbconvert_exporter": "python",
   "pygments_lexer": "ipython2",
   "version": "2.7.6"
  }
 },
 "nbformat": 4,
 "nbformat_minor": 5
}
