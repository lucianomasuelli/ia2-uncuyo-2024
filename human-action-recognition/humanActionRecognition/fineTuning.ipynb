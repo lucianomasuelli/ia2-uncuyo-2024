{
 "cells": [
  {
   "cell_type": "code",
   "id": "initial_id",
   "metadata": {
    "collapsed": true,
    "ExecuteTime": {
     "end_time": "2024-12-16T17:44:57.843149Z",
     "start_time": "2024-12-16T17:44:57.838420Z"
    }
   },
   "source": [
    "import tensorflow as tf\n",
    "from tensorflow import keras\n",
    "from tensorflow.keras.models import Sequential, Model\n",
    "from tensorflow.keras.layers import Activation, Dropout, Flatten, Dense\n",
    "from tensorflow.keras.layers import Conv2D, MaxPooling2D, GlobalAveragePooling2D, Layer, Flatten\n",
    "from tensorflow.keras.applications import VGG16\n",
    "from tensorflow.keras.optimizers import Adam\n",
    "from tensorflow.keras import layers\n",
    "from tensorflow.keras.utils import to_categorical\n",
    "import pandas as pd\n",
    "import os\n",
    "import cv2\n",
    "import numpy as np\n",
    "from sklearn.preprocessing import LabelEncoder\n",
    "from tensorflow.keras.utils import to_categorical\n",
    "from tensorflow.keras.utils import image_dataset_from_directory\n",
    "import matplotlib.pyplot as plt\n",
    "import keras_tuner\n",
    "from tensorflow.keras.callbacks import ModelCheckpoint, EarlyStopping, ReduceLROnPlateau\n"
   ],
   "outputs": [],
   "execution_count": 21
  },
  {
   "metadata": {
    "ExecuteTime": {
     "end_time": "2024-12-16T17:44:57.902738Z",
     "start_time": "2024-12-16T17:44:57.899589Z"
    }
   },
   "cell_type": "code",
   "source": [
    "# To ignore warnings\n",
    "import warnings\n",
    "warnings.filterwarnings(\"ignore\")"
   ],
   "id": "8a7c0c4fa27941e7",
   "outputs": [],
   "execution_count": 22
  },
  {
   "metadata": {
    "ExecuteTime": {
     "end_time": "2024-12-16T17:44:58.521339Z",
     "start_time": "2024-12-16T17:44:57.945005Z"
    }
   },
   "cell_type": "code",
   "source": [
    "img_size = 180\n",
    "batch_size = 32\n",
    "train_dataset = image_dataset_from_directory(\n",
    "    \"data/train\",\n",
    "    image_size=(img_size, img_size),\n",
    "    batch_size=batch_size)\n",
    "validation_dataset = image_dataset_from_directory(\n",
    "    \"data/val\",\n",
    "    image_size=(img_size, img_size),\n",
    "    batch_size=batch_size)\n",
    "test_dataset = image_dataset_from_directory(\n",
    "    \"data/test\",\n",
    "    image_size=(img_size, img_size),\n",
    "    batch_size=batch_size)"
   ],
   "id": "f2ea6743a435b3b",
   "outputs": [
    {
     "name": "stdout",
     "output_type": "stream",
     "text": [
      "Found 8819 files belonging to 15 classes.\n",
      "Found 1891 files belonging to 15 classes.\n",
      "Found 1890 files belonging to 15 classes.\n"
     ]
    }
   ],
   "execution_count": 23
  },
  {
   "metadata": {
    "ExecuteTime": {
     "end_time": "2024-12-16T17:44:58.570193Z",
     "start_time": "2024-12-16T17:44:58.530261Z"
    }
   },
   "cell_type": "code",
   "source": [
    "# Function to preprocess the dataset\n",
    "def preprocess_dataset(dataset):\n",
    "    def process(image, label):\n",
    "        label = to_categorical(label, num_classes=15)\n",
    "        return image, label\n",
    "    return dataset.map(process)\n",
    "\n",
    "# Preprocess the datasets\n",
    "train_dataset = preprocess_dataset(train_dataset)\n",
    "validation_dataset = preprocess_dataset(validation_dataset)\n",
    "test_dataset = preprocess_dataset(test_dataset)"
   ],
   "id": "1222b9755eae81ad",
   "outputs": [],
   "execution_count": 24
  },
  {
   "metadata": {
    "ExecuteTime": {
     "end_time": "2024-12-16T17:44:58.590349Z",
     "start_time": "2024-12-16T17:44:58.580480Z"
    }
   },
   "cell_type": "code",
   "source": [
    "# Data augmentation\n",
    "data_augmentation = keras.Sequential(\n",
    "    [\n",
    "        layers.RandomFlip(\"horizontal\"),\n",
    "        layers.RandomRotation(0.1),\n",
    "        layers.RandomZoom(0.2),\n",
    "    ]\n",
    ")"
   ],
   "id": "b1fd952cd65a4083",
   "outputs": [],
   "execution_count": 25
  },
  {
   "metadata": {},
   "cell_type": "markdown",
   "source": "# Definición del modelo",
   "id": "1053af446378992"
  },
  {
   "metadata": {
    "ExecuteTime": {
     "end_time": "2024-12-16T17:44:59.034276Z",
     "start_time": "2024-12-16T17:44:58.629572Z"
    }
   },
   "cell_type": "code",
   "source": [
    "base_model = VGG16(include_top = False,\n",
    "                   weights = 'imagenet',\n",
    "                   input_shape = (img_size,img_size,3))\n",
    "\n",
    "# Apply normalization and data augmentation to the input\n",
    "inputs = base_model.input\n",
    "x = data_augmentation(inputs)\n",
    "x = layers.Rescaling(1./255)(x) # Normalización\n",
    "\n",
    "# Use the base model excluding the last two layers\n",
    "x = base_model(x, training=False)  # Freeze the base model during training\n",
    "\n",
    "x = GlobalAveragePooling2D()(x)\n",
    "#x = layers.Flatten()(x)\n",
    "x = Dropout(0.5)(x)\n",
    "x = Dense(512,'relu')(x)\n",
    "x = Dense(15, activation='softmax')(x)\n",
    "model = Model(inputs=base_model.input, outputs=x)\n",
    "\n",
    "model.compile(loss='categorical_crossentropy',\n",
    "              optimizer=Adam(learning_rate=0.0001),\n",
    "              metrics=['accuracy'])\n",
    "model.summary()"
   ],
   "id": "faba84a3aa880b3d",
   "outputs": [
    {
     "data": {
      "text/plain": [
       "\u001B[1mModel: \"functional_5\"\u001B[0m\n"
      ],
      "text/html": [
       "<pre style=\"white-space:pre;overflow-x:auto;line-height:normal;font-family:Menlo,'DejaVu Sans Mono',consolas,'Courier New',monospace\"><span style=\"font-weight: bold\">Model: \"functional_5\"</span>\n",
       "</pre>\n"
      ]
     },
     "metadata": {},
     "output_type": "display_data"
    },
    {
     "data": {
      "text/plain": [
       "┏━━━━━━━━━━━━━━━━━━━━━━━━━━━━━━━━━┳━━━━━━━━━━━━━━━━━━━━━━━━┳━━━━━━━━━━━━━━━┓\n",
       "┃\u001B[1m \u001B[0m\u001B[1mLayer (type)                   \u001B[0m\u001B[1m \u001B[0m┃\u001B[1m \u001B[0m\u001B[1mOutput Shape          \u001B[0m\u001B[1m \u001B[0m┃\u001B[1m \u001B[0m\u001B[1m      Param #\u001B[0m\u001B[1m \u001B[0m┃\n",
       "┡━━━━━━━━━━━━━━━━━━━━━━━━━━━━━━━━━╇━━━━━━━━━━━━━━━━━━━━━━━━╇━━━━━━━━━━━━━━━┩\n",
       "│ input_layer_4 (\u001B[38;5;33mInputLayer\u001B[0m)      │ (\u001B[38;5;45mNone\u001B[0m, \u001B[38;5;34m180\u001B[0m, \u001B[38;5;34m180\u001B[0m, \u001B[38;5;34m3\u001B[0m)    │             \u001B[38;5;34m0\u001B[0m │\n",
       "├─────────────────────────────────┼────────────────────────┼───────────────┤\n",
       "│ sequential_2 (\u001B[38;5;33mSequential\u001B[0m)       │ (\u001B[38;5;45mNone\u001B[0m, \u001B[38;5;34m180\u001B[0m, \u001B[38;5;34m180\u001B[0m, \u001B[38;5;34m3\u001B[0m)    │             \u001B[38;5;34m0\u001B[0m │\n",
       "├─────────────────────────────────┼────────────────────────┼───────────────┤\n",
       "│ rescaling_2 (\u001B[38;5;33mRescaling\u001B[0m)         │ (\u001B[38;5;45mNone\u001B[0m, \u001B[38;5;34m180\u001B[0m, \u001B[38;5;34m180\u001B[0m, \u001B[38;5;34m3\u001B[0m)    │             \u001B[38;5;34m0\u001B[0m │\n",
       "├─────────────────────────────────┼────────────────────────┼───────────────┤\n",
       "│ vgg16 (\u001B[38;5;33mFunctional\u001B[0m)              │ (\u001B[38;5;45mNone\u001B[0m, \u001B[38;5;34m5\u001B[0m, \u001B[38;5;34m5\u001B[0m, \u001B[38;5;34m512\u001B[0m)      │    \u001B[38;5;34m14,714,688\u001B[0m │\n",
       "├─────────────────────────────────┼────────────────────────┼───────────────┤\n",
       "│ global_average_pooling2d_2      │ (\u001B[38;5;45mNone\u001B[0m, \u001B[38;5;34m512\u001B[0m)            │             \u001B[38;5;34m0\u001B[0m │\n",
       "│ (\u001B[38;5;33mGlobalAveragePooling2D\u001B[0m)        │                        │               │\n",
       "├─────────────────────────────────┼────────────────────────┼───────────────┤\n",
       "│ dropout_2 (\u001B[38;5;33mDropout\u001B[0m)             │ (\u001B[38;5;45mNone\u001B[0m, \u001B[38;5;34m512\u001B[0m)            │             \u001B[38;5;34m0\u001B[0m │\n",
       "├─────────────────────────────────┼────────────────────────┼───────────────┤\n",
       "│ dense_4 (\u001B[38;5;33mDense\u001B[0m)                 │ (\u001B[38;5;45mNone\u001B[0m, \u001B[38;5;34m512\u001B[0m)            │       \u001B[38;5;34m262,656\u001B[0m │\n",
       "├─────────────────────────────────┼────────────────────────┼───────────────┤\n",
       "│ dense_5 (\u001B[38;5;33mDense\u001B[0m)                 │ (\u001B[38;5;45mNone\u001B[0m, \u001B[38;5;34m15\u001B[0m)             │         \u001B[38;5;34m7,695\u001B[0m │\n",
       "└─────────────────────────────────┴────────────────────────┴───────────────┘\n"
      ],
      "text/html": [
       "<pre style=\"white-space:pre;overflow-x:auto;line-height:normal;font-family:Menlo,'DejaVu Sans Mono',consolas,'Courier New',monospace\">┏━━━━━━━━━━━━━━━━━━━━━━━━━━━━━━━━━┳━━━━━━━━━━━━━━━━━━━━━━━━┳━━━━━━━━━━━━━━━┓\n",
       "┃<span style=\"font-weight: bold\"> Layer (type)                    </span>┃<span style=\"font-weight: bold\"> Output Shape           </span>┃<span style=\"font-weight: bold\">       Param # </span>┃\n",
       "┡━━━━━━━━━━━━━━━━━━━━━━━━━━━━━━━━━╇━━━━━━━━━━━━━━━━━━━━━━━━╇━━━━━━━━━━━━━━━┩\n",
       "│ input_layer_4 (<span style=\"color: #0087ff; text-decoration-color: #0087ff\">InputLayer</span>)      │ (<span style=\"color: #00d7ff; text-decoration-color: #00d7ff\">None</span>, <span style=\"color: #00af00; text-decoration-color: #00af00\">180</span>, <span style=\"color: #00af00; text-decoration-color: #00af00\">180</span>, <span style=\"color: #00af00; text-decoration-color: #00af00\">3</span>)    │             <span style=\"color: #00af00; text-decoration-color: #00af00\">0</span> │\n",
       "├─────────────────────────────────┼────────────────────────┼───────────────┤\n",
       "│ sequential_2 (<span style=\"color: #0087ff; text-decoration-color: #0087ff\">Sequential</span>)       │ (<span style=\"color: #00d7ff; text-decoration-color: #00d7ff\">None</span>, <span style=\"color: #00af00; text-decoration-color: #00af00\">180</span>, <span style=\"color: #00af00; text-decoration-color: #00af00\">180</span>, <span style=\"color: #00af00; text-decoration-color: #00af00\">3</span>)    │             <span style=\"color: #00af00; text-decoration-color: #00af00\">0</span> │\n",
       "├─────────────────────────────────┼────────────────────────┼───────────────┤\n",
       "│ rescaling_2 (<span style=\"color: #0087ff; text-decoration-color: #0087ff\">Rescaling</span>)         │ (<span style=\"color: #00d7ff; text-decoration-color: #00d7ff\">None</span>, <span style=\"color: #00af00; text-decoration-color: #00af00\">180</span>, <span style=\"color: #00af00; text-decoration-color: #00af00\">180</span>, <span style=\"color: #00af00; text-decoration-color: #00af00\">3</span>)    │             <span style=\"color: #00af00; text-decoration-color: #00af00\">0</span> │\n",
       "├─────────────────────────────────┼────────────────────────┼───────────────┤\n",
       "│ vgg16 (<span style=\"color: #0087ff; text-decoration-color: #0087ff\">Functional</span>)              │ (<span style=\"color: #00d7ff; text-decoration-color: #00d7ff\">None</span>, <span style=\"color: #00af00; text-decoration-color: #00af00\">5</span>, <span style=\"color: #00af00; text-decoration-color: #00af00\">5</span>, <span style=\"color: #00af00; text-decoration-color: #00af00\">512</span>)      │    <span style=\"color: #00af00; text-decoration-color: #00af00\">14,714,688</span> │\n",
       "├─────────────────────────────────┼────────────────────────┼───────────────┤\n",
       "│ global_average_pooling2d_2      │ (<span style=\"color: #00d7ff; text-decoration-color: #00d7ff\">None</span>, <span style=\"color: #00af00; text-decoration-color: #00af00\">512</span>)            │             <span style=\"color: #00af00; text-decoration-color: #00af00\">0</span> │\n",
       "│ (<span style=\"color: #0087ff; text-decoration-color: #0087ff\">GlobalAveragePooling2D</span>)        │                        │               │\n",
       "├─────────────────────────────────┼────────────────────────┼───────────────┤\n",
       "│ dropout_2 (<span style=\"color: #0087ff; text-decoration-color: #0087ff\">Dropout</span>)             │ (<span style=\"color: #00d7ff; text-decoration-color: #00d7ff\">None</span>, <span style=\"color: #00af00; text-decoration-color: #00af00\">512</span>)            │             <span style=\"color: #00af00; text-decoration-color: #00af00\">0</span> │\n",
       "├─────────────────────────────────┼────────────────────────┼───────────────┤\n",
       "│ dense_4 (<span style=\"color: #0087ff; text-decoration-color: #0087ff\">Dense</span>)                 │ (<span style=\"color: #00d7ff; text-decoration-color: #00d7ff\">None</span>, <span style=\"color: #00af00; text-decoration-color: #00af00\">512</span>)            │       <span style=\"color: #00af00; text-decoration-color: #00af00\">262,656</span> │\n",
       "├─────────────────────────────────┼────────────────────────┼───────────────┤\n",
       "│ dense_5 (<span style=\"color: #0087ff; text-decoration-color: #0087ff\">Dense</span>)                 │ (<span style=\"color: #00d7ff; text-decoration-color: #00d7ff\">None</span>, <span style=\"color: #00af00; text-decoration-color: #00af00\">15</span>)             │         <span style=\"color: #00af00; text-decoration-color: #00af00\">7,695</span> │\n",
       "└─────────────────────────────────┴────────────────────────┴───────────────┘\n",
       "</pre>\n"
      ]
     },
     "metadata": {},
     "output_type": "display_data"
    },
    {
     "data": {
      "text/plain": [
       "\u001B[1m Total params: \u001B[0m\u001B[38;5;34m14,985,039\u001B[0m (57.16 MB)\n"
      ],
      "text/html": [
       "<pre style=\"white-space:pre;overflow-x:auto;line-height:normal;font-family:Menlo,'DejaVu Sans Mono',consolas,'Courier New',monospace\"><span style=\"font-weight: bold\"> Total params: </span><span style=\"color: #00af00; text-decoration-color: #00af00\">14,985,039</span> (57.16 MB)\n",
       "</pre>\n"
      ]
     },
     "metadata": {},
     "output_type": "display_data"
    },
    {
     "data": {
      "text/plain": [
       "\u001B[1m Trainable params: \u001B[0m\u001B[38;5;34m14,985,039\u001B[0m (57.16 MB)\n"
      ],
      "text/html": [
       "<pre style=\"white-space:pre;overflow-x:auto;line-height:normal;font-family:Menlo,'DejaVu Sans Mono',consolas,'Courier New',monospace\"><span style=\"font-weight: bold\"> Trainable params: </span><span style=\"color: #00af00; text-decoration-color: #00af00\">14,985,039</span> (57.16 MB)\n",
       "</pre>\n"
      ]
     },
     "metadata": {},
     "output_type": "display_data"
    },
    {
     "data": {
      "text/plain": [
       "\u001B[1m Non-trainable params: \u001B[0m\u001B[38;5;34m0\u001B[0m (0.00 B)\n"
      ],
      "text/html": [
       "<pre style=\"white-space:pre;overflow-x:auto;line-height:normal;font-family:Menlo,'DejaVu Sans Mono',consolas,'Courier New',monospace\"><span style=\"font-weight: bold\"> Non-trainable params: </span><span style=\"color: #00af00; text-decoration-color: #00af00\">0</span> (0.00 B)\n",
       "</pre>\n"
      ]
     },
     "metadata": {},
     "output_type": "display_data"
    }
   ],
   "execution_count": 26
  },
  {
   "metadata": {},
   "cell_type": "markdown",
   "source": "# Checkpoints\n",
   "id": "1018a62218b029fc"
  },
  {
   "metadata": {
    "ExecuteTime": {
     "end_time": "2024-12-16T17:44:59.074993Z",
     "start_time": "2024-12-16T17:44:59.067990Z"
    }
   },
   "cell_type": "code",
   "source": [
    "model_name = \"model.keras\"\n",
    "\n",
    "# Guarda el modelo si tiene una mejor val_loss que antes.\n",
    "checkpoint = ModelCheckpoint(model_name,\n",
    "                             monitor=\"val_loss\",\n",
    "                             mode=\"min\",\n",
    "                             save_best_only = True,\n",
    "                             verbose=1)\n",
    "\n",
    "# Detiene el entrenamiento si la val_loss no mejora en 5 epochs.\n",
    "earlystopping = EarlyStopping(monitor='val_loss',min_delta = 0, patience = 5, verbose = 1, restore_best_weights=True)\n",
    "\n",
    "# Reduce el learning rate si la val_loss no mejora en 3 epochs.\n",
    "learning_rate_reduction = ReduceLROnPlateau(monitor='val_loss',\n",
    "                                            patience=3,\n",
    "                                            verbose=1,\n",
    "                                            factor=0.2,\n",
    "                                            min_lr=0.00000001)"
   ],
   "id": "69d607f8fe33009d",
   "outputs": [],
   "execution_count": 27
  },
  {
   "metadata": {},
   "cell_type": "markdown",
   "source": "# Entrenamiento del modelo\n",
   "id": "a18aa750c9318342"
  },
  {
   "metadata": {
    "ExecuteTime": {
     "end_time": "2024-12-16T18:58:56.205559Z",
     "start_time": "2024-12-16T17:44:59.120480Z"
    }
   },
   "cell_type": "code",
   "source": [
    "history = model.fit(train_dataset,\n",
    "                    epochs=30,\n",
    "                    validation_data=validation_dataset,\n",
    "                    callbacks=[checkpoint,earlystopping,learning_rate_reduction])"
   ],
   "id": "74cd3115d3b04322",
   "outputs": [
    {
     "name": "stdout",
     "output_type": "stream",
     "text": [
      "Epoch 1/30\n",
      "\u001B[1m276/276\u001B[0m \u001B[32m━━━━━━━━━━━━━━━━━━━━\u001B[0m\u001B[37m\u001B[0m \u001B[1m0s\u001B[0m 528ms/step - accuracy: 0.0619 - loss: 2.7489\n",
      "Epoch 1: val_loss improved from inf to 2.71202, saving model to model.keras\n",
      "\u001B[1m276/276\u001B[0m \u001B[32m━━━━━━━━━━━━━━━━━━━━\u001B[0m\u001B[37m\u001B[0m \u001B[1m161s\u001B[0m 568ms/step - accuracy: 0.0619 - loss: 2.7488 - val_accuracy: 0.0714 - val_loss: 2.7120 - learning_rate: 1.0000e-04\n",
      "Epoch 2/30\n",
      "\u001B[1m276/276\u001B[0m \u001B[32m━━━━━━━━━━━━━━━━━━━━\u001B[0m\u001B[37m\u001B[0m \u001B[1m0s\u001B[0m 559ms/step - accuracy: 0.0709 - loss: 2.6991\n",
      "Epoch 2: val_loss improved from 2.71202 to 2.67877, saving model to model.keras\n",
      "\u001B[1m276/276\u001B[0m \u001B[32m━━━━━━━━━━━━━━━━━━━━\u001B[0m\u001B[37m\u001B[0m \u001B[1m165s\u001B[0m 599ms/step - accuracy: 0.0709 - loss: 2.6991 - val_accuracy: 0.0814 - val_loss: 2.6788 - learning_rate: 1.0000e-04\n",
      "Epoch 3/30\n",
      "\u001B[1m276/276\u001B[0m \u001B[32m━━━━━━━━━━━━━━━━━━━━\u001B[0m\u001B[37m\u001B[0m \u001B[1m0s\u001B[0m 576ms/step - accuracy: 0.0958 - loss: 2.6524\n",
      "Epoch 3: val_loss improved from 2.67877 to 2.62562, saving model to model.keras\n",
      "\u001B[1m276/276\u001B[0m \u001B[32m━━━━━━━━━━━━━━━━━━━━\u001B[0m\u001B[37m\u001B[0m \u001B[1m170s\u001B[0m 616ms/step - accuracy: 0.0959 - loss: 2.6524 - val_accuracy: 0.1079 - val_loss: 2.6256 - learning_rate: 1.0000e-04\n",
      "Epoch 4/30\n",
      "\u001B[1m276/276\u001B[0m \u001B[32m━━━━━━━━━━━━━━━━━━━━\u001B[0m\u001B[37m\u001B[0m \u001B[1m0s\u001B[0m 579ms/step - accuracy: 0.1236 - loss: 2.6026\n",
      "Epoch 4: val_loss improved from 2.62562 to 2.44034, saving model to model.keras\n",
      "\u001B[1m276/276\u001B[0m \u001B[32m━━━━━━━━━━━━━━━━━━━━\u001B[0m\u001B[37m\u001B[0m \u001B[1m171s\u001B[0m 619ms/step - accuracy: 0.1237 - loss: 2.6025 - val_accuracy: 0.1671 - val_loss: 2.4403 - learning_rate: 1.0000e-04\n",
      "Epoch 5/30\n",
      "\u001B[1m276/276\u001B[0m \u001B[32m━━━━━━━━━━━━━━━━━━━━\u001B[0m\u001B[37m\u001B[0m \u001B[1m0s\u001B[0m 577ms/step - accuracy: 0.1792 - loss: 2.4450\n",
      "Epoch 5: val_loss improved from 2.44034 to 2.20844, saving model to model.keras\n",
      "\u001B[1m276/276\u001B[0m \u001B[32m━━━━━━━━━━━━━━━━━━━━\u001B[0m\u001B[37m\u001B[0m \u001B[1m171s\u001B[0m 618ms/step - accuracy: 0.1792 - loss: 2.4449 - val_accuracy: 0.2189 - val_loss: 2.2084 - learning_rate: 1.0000e-04\n",
      "Epoch 6/30\n",
      "\u001B[1m276/276\u001B[0m \u001B[32m━━━━━━━━━━━━━━━━━━━━\u001B[0m\u001B[37m\u001B[0m \u001B[1m0s\u001B[0m 540ms/step - accuracy: 0.2305 - loss: 2.2287\n",
      "Epoch 6: val_loss improved from 2.20844 to 2.01579, saving model to model.keras\n",
      "\u001B[1m276/276\u001B[0m \u001B[32m━━━━━━━━━━━━━━━━━━━━\u001B[0m\u001B[37m\u001B[0m \u001B[1m160s\u001B[0m 581ms/step - accuracy: 0.2305 - loss: 2.2286 - val_accuracy: 0.3205 - val_loss: 2.0158 - learning_rate: 1.0000e-04\n",
      "Epoch 7/30\n",
      "\u001B[1m276/276\u001B[0m \u001B[32m━━━━━━━━━━━━━━━━━━━━\u001B[0m\u001B[37m\u001B[0m \u001B[1m0s\u001B[0m 541ms/step - accuracy: 0.3181 - loss: 2.0315\n",
      "Epoch 7: val_loss improved from 2.01579 to 1.80342, saving model to model.keras\n",
      "\u001B[1m276/276\u001B[0m \u001B[32m━━━━━━━━━━━━━━━━━━━━\u001B[0m\u001B[37m\u001B[0m \u001B[1m160s\u001B[0m 580ms/step - accuracy: 0.3181 - loss: 2.0315 - val_accuracy: 0.3982 - val_loss: 1.8034 - learning_rate: 1.0000e-04\n",
      "Epoch 8/30\n",
      "\u001B[1m276/276\u001B[0m \u001B[32m━━━━━━━━━━━━━━━━━━━━\u001B[0m\u001B[37m\u001B[0m \u001B[1m0s\u001B[0m 537ms/step - accuracy: 0.3737 - loss: 1.8549\n",
      "Epoch 8: val_loss improved from 1.80342 to 1.72150, saving model to model.keras\n",
      "\u001B[1m276/276\u001B[0m \u001B[32m━━━━━━━━━━━━━━━━━━━━\u001B[0m\u001B[37m\u001B[0m \u001B[1m159s\u001B[0m 576ms/step - accuracy: 0.3738 - loss: 1.8548 - val_accuracy: 0.4215 - val_loss: 1.7215 - learning_rate: 1.0000e-04\n",
      "Epoch 9/30\n",
      "\u001B[1m276/276\u001B[0m \u001B[32m━━━━━━━━━━━━━━━━━━━━\u001B[0m\u001B[37m\u001B[0m \u001B[1m0s\u001B[0m 542ms/step - accuracy: 0.4344 - loss: 1.6997\n",
      "Epoch 9: val_loss improved from 1.72150 to 1.67324, saving model to model.keras\n",
      "\u001B[1m276/276\u001B[0m \u001B[32m━━━━━━━━━━━━━━━━━━━━\u001B[0m\u001B[37m\u001B[0m \u001B[1m161s\u001B[0m 582ms/step - accuracy: 0.4344 - loss: 1.6997 - val_accuracy: 0.4532 - val_loss: 1.6732 - learning_rate: 1.0000e-04\n",
      "Epoch 10/30\n",
      "\u001B[1m276/276\u001B[0m \u001B[32m━━━━━━━━━━━━━━━━━━━━\u001B[0m\u001B[37m\u001B[0m \u001B[1m0s\u001B[0m 546ms/step - accuracy: 0.4660 - loss: 1.6058\n",
      "Epoch 10: val_loss improved from 1.67324 to 1.48691, saving model to model.keras\n",
      "\u001B[1m276/276\u001B[0m \u001B[32m━━━━━━━━━━━━━━━━━━━━\u001B[0m\u001B[37m\u001B[0m \u001B[1m162s\u001B[0m 586ms/step - accuracy: 0.4661 - loss: 1.6058 - val_accuracy: 0.4955 - val_loss: 1.4869 - learning_rate: 1.0000e-04\n",
      "Epoch 11/30\n",
      "\u001B[1m276/276\u001B[0m \u001B[32m━━━━━━━━━━━━━━━━━━━━\u001B[0m\u001B[37m\u001B[0m \u001B[1m0s\u001B[0m 537ms/step - accuracy: 0.5027 - loss: 1.4943\n",
      "Epoch 11: val_loss did not improve from 1.48691\n",
      "\u001B[1m276/276\u001B[0m \u001B[32m━━━━━━━━━━━━━━━━━━━━\u001B[0m\u001B[37m\u001B[0m \u001B[1m159s\u001B[0m 575ms/step - accuracy: 0.5028 - loss: 1.4943 - val_accuracy: 0.4944 - val_loss: 1.5236 - learning_rate: 1.0000e-04\n",
      "Epoch 12/30\n",
      "\u001B[1m276/276\u001B[0m \u001B[32m━━━━━━━━━━━━━━━━━━━━\u001B[0m\u001B[37m\u001B[0m \u001B[1m0s\u001B[0m 537ms/step - accuracy: 0.5338 - loss: 1.4218\n",
      "Epoch 12: val_loss improved from 1.48691 to 1.47707, saving model to model.keras\n",
      "\u001B[1m276/276\u001B[0m \u001B[32m━━━━━━━━━━━━━━━━━━━━\u001B[0m\u001B[37m\u001B[0m \u001B[1m159s\u001B[0m 578ms/step - accuracy: 0.5338 - loss: 1.4218 - val_accuracy: 0.5061 - val_loss: 1.4771 - learning_rate: 1.0000e-04\n",
      "Epoch 13/30\n",
      "\u001B[1m276/276\u001B[0m \u001B[32m━━━━━━━━━━━━━━━━━━━━\u001B[0m\u001B[37m\u001B[0m \u001B[1m0s\u001B[0m 543ms/step - accuracy: 0.5642 - loss: 1.3518\n",
      "Epoch 13: val_loss improved from 1.47707 to 1.45799, saving model to model.keras\n",
      "\u001B[1m276/276\u001B[0m \u001B[32m━━━━━━━━━━━━━━━━━━━━\u001B[0m\u001B[37m\u001B[0m \u001B[1m161s\u001B[0m 583ms/step - accuracy: 0.5642 - loss: 1.3518 - val_accuracy: 0.5331 - val_loss: 1.4580 - learning_rate: 1.0000e-04\n",
      "Epoch 14/30\n",
      "\u001B[1m276/276\u001B[0m \u001B[32m━━━━━━━━━━━━━━━━━━━━\u001B[0m\u001B[37m\u001B[0m \u001B[1m0s\u001B[0m 540ms/step - accuracy: 0.5876 - loss: 1.2779\n",
      "Epoch 14: val_loss improved from 1.45799 to 1.23440, saving model to model.keras\n",
      "\u001B[1m276/276\u001B[0m \u001B[32m━━━━━━━━━━━━━━━━━━━━\u001B[0m\u001B[37m\u001B[0m \u001B[1m160s\u001B[0m 580ms/step - accuracy: 0.5876 - loss: 1.2779 - val_accuracy: 0.5949 - val_loss: 1.2344 - learning_rate: 1.0000e-04\n",
      "Epoch 15/30\n",
      "\u001B[1m276/276\u001B[0m \u001B[32m━━━━━━━━━━━━━━━━━━━━\u001B[0m\u001B[37m\u001B[0m \u001B[1m0s\u001B[0m 543ms/step - accuracy: 0.6128 - loss: 1.2072\n",
      "Epoch 15: val_loss did not improve from 1.23440\n",
      "\u001B[1m276/276\u001B[0m \u001B[32m━━━━━━━━━━━━━━━━━━━━\u001B[0m\u001B[37m\u001B[0m \u001B[1m160s\u001B[0m 580ms/step - accuracy: 0.6128 - loss: 1.2072 - val_accuracy: 0.5653 - val_loss: 1.3361 - learning_rate: 1.0000e-04\n",
      "Epoch 16/30\n",
      "\u001B[1m276/276\u001B[0m \u001B[32m━━━━━━━━━━━━━━━━━━━━\u001B[0m\u001B[37m\u001B[0m \u001B[1m0s\u001B[0m 541ms/step - accuracy: 0.6304 - loss: 1.1467\n",
      "Epoch 16: val_loss did not improve from 1.23440\n",
      "\u001B[1m276/276\u001B[0m \u001B[32m━━━━━━━━━━━━━━━━━━━━\u001B[0m\u001B[37m\u001B[0m \u001B[1m160s\u001B[0m 579ms/step - accuracy: 0.6304 - loss: 1.1467 - val_accuracy: 0.5590 - val_loss: 1.3757 - learning_rate: 1.0000e-04\n",
      "Epoch 17/30\n",
      "\u001B[1m276/276\u001B[0m \u001B[32m━━━━━━━━━━━━━━━━━━━━\u001B[0m\u001B[37m\u001B[0m \u001B[1m0s\u001B[0m 540ms/step - accuracy: 0.6488 - loss: 1.0920\n",
      "Epoch 17: val_loss improved from 1.23440 to 1.14939, saving model to model.keras\n",
      "\u001B[1m276/276\u001B[0m \u001B[32m━━━━━━━━━━━━━━━━━━━━\u001B[0m\u001B[37m\u001B[0m \u001B[1m160s\u001B[0m 581ms/step - accuracy: 0.6488 - loss: 1.0920 - val_accuracy: 0.6341 - val_loss: 1.1494 - learning_rate: 1.0000e-04\n",
      "Epoch 18/30\n",
      "\u001B[1m276/276\u001B[0m \u001B[32m━━━━━━━━━━━━━━━━━━━━\u001B[0m\u001B[37m\u001B[0m \u001B[1m0s\u001B[0m 541ms/step - accuracy: 0.6698 - loss: 1.0143\n",
      "Epoch 18: val_loss did not improve from 1.14939\n",
      "\u001B[1m276/276\u001B[0m \u001B[32m━━━━━━━━━━━━━━━━━━━━\u001B[0m\u001B[37m\u001B[0m \u001B[1m160s\u001B[0m 579ms/step - accuracy: 0.6699 - loss: 1.0144 - val_accuracy: 0.6155 - val_loss: 1.2264 - learning_rate: 1.0000e-04\n",
      "Epoch 19/30\n",
      "\u001B[1m276/276\u001B[0m \u001B[32m━━━━━━━━━━━━━━━━━━━━\u001B[0m\u001B[37m\u001B[0m \u001B[1m0s\u001B[0m 544ms/step - accuracy: 0.6887 - loss: 0.9670\n",
      "Epoch 19: val_loss did not improve from 1.14939\n",
      "\u001B[1m276/276\u001B[0m \u001B[32m━━━━━━━━━━━━━━━━━━━━\u001B[0m\u001B[37m\u001B[0m \u001B[1m160s\u001B[0m 581ms/step - accuracy: 0.6887 - loss: 0.9671 - val_accuracy: 0.6071 - val_loss: 1.3236 - learning_rate: 1.0000e-04\n",
      "Epoch 20/30\n",
      "\u001B[1m276/276\u001B[0m \u001B[32m━━━━━━━━━━━━━━━━━━━━\u001B[0m\u001B[37m\u001B[0m \u001B[1m0s\u001B[0m 543ms/step - accuracy: 0.6906 - loss: 0.9638\n",
      "Epoch 20: val_loss did not improve from 1.14939\n",
      "\n",
      "Epoch 20: ReduceLROnPlateau reducing learning rate to 1.9999999494757503e-05.\n",
      "\u001B[1m276/276\u001B[0m \u001B[32m━━━━━━━━━━━━━━━━━━━━\u001B[0m\u001B[37m\u001B[0m \u001B[1m160s\u001B[0m 580ms/step - accuracy: 0.6906 - loss: 0.9637 - val_accuracy: 0.5955 - val_loss: 1.3951 - learning_rate: 1.0000e-04\n",
      "Epoch 21/30\n",
      "\u001B[1m276/276\u001B[0m \u001B[32m━━━━━━━━━━━━━━━━━━━━\u001B[0m\u001B[37m\u001B[0m \u001B[1m0s\u001B[0m 541ms/step - accuracy: 0.7456 - loss: 0.7739\n",
      "Epoch 21: val_loss did not improve from 1.14939\n",
      "\u001B[1m276/276\u001B[0m \u001B[32m━━━━━━━━━━━━━━━━━━━━\u001B[0m\u001B[37m\u001B[0m \u001B[1m160s\u001B[0m 578ms/step - accuracy: 0.7457 - loss: 0.7737 - val_accuracy: 0.6452 - val_loss: 1.2081 - learning_rate: 2.0000e-05\n",
      "Epoch 22/30\n",
      "\u001B[1m276/276\u001B[0m \u001B[32m━━━━━━━━━━━━━━━━━━━━\u001B[0m\u001B[37m\u001B[0m \u001B[1m0s\u001B[0m 542ms/step - accuracy: 0.7742 - loss: 0.7022\n",
      "Epoch 22: val_loss improved from 1.14939 to 1.13581, saving model to model.keras\n",
      "\u001B[1m276/276\u001B[0m \u001B[32m━━━━━━━━━━━━━━━━━━━━\u001B[0m\u001B[37m\u001B[0m \u001B[1m161s\u001B[0m 582ms/step - accuracy: 0.7742 - loss: 0.7022 - val_accuracy: 0.6616 - val_loss: 1.1358 - learning_rate: 2.0000e-05\n",
      "Epoch 23/30\n",
      "\u001B[1m276/276\u001B[0m \u001B[32m━━━━━━━━━━━━━━━━━━━━\u001B[0m\u001B[37m\u001B[0m \u001B[1m0s\u001B[0m 573ms/step - accuracy: 0.7931 - loss: 0.6494\n",
      "Epoch 23: val_loss did not improve from 1.13581\n",
      "\u001B[1m276/276\u001B[0m \u001B[32m━━━━━━━━━━━━━━━━━━━━\u001B[0m\u001B[37m\u001B[0m \u001B[1m168s\u001B[0m 611ms/step - accuracy: 0.7931 - loss: 0.6493 - val_accuracy: 0.6563 - val_loss: 1.1702 - learning_rate: 2.0000e-05\n",
      "Epoch 24/30\n",
      "\u001B[1m276/276\u001B[0m \u001B[32m━━━━━━━━━━━━━━━━━━━━\u001B[0m\u001B[37m\u001B[0m \u001B[1m0s\u001B[0m 600ms/step - accuracy: 0.8037 - loss: 0.6096\n",
      "Epoch 24: val_loss did not improve from 1.13581\n",
      "\u001B[1m276/276\u001B[0m \u001B[32m━━━━━━━━━━━━━━━━━━━━\u001B[0m\u001B[37m\u001B[0m \u001B[1m176s\u001B[0m 638ms/step - accuracy: 0.8037 - loss: 0.6096 - val_accuracy: 0.6494 - val_loss: 1.2255 - learning_rate: 2.0000e-05\n",
      "Epoch 25/30\n",
      "\u001B[1m276/276\u001B[0m \u001B[32m━━━━━━━━━━━━━━━━━━━━\u001B[0m\u001B[37m\u001B[0m \u001B[1m0s\u001B[0m 599ms/step - accuracy: 0.8034 - loss: 0.5870\n",
      "Epoch 25: val_loss did not improve from 1.13581\n",
      "\n",
      "Epoch 25: ReduceLROnPlateau reducing learning rate to 3.999999898951501e-06.\n",
      "\u001B[1m276/276\u001B[0m \u001B[32m━━━━━━━━━━━━━━━━━━━━\u001B[0m\u001B[37m\u001B[0m \u001B[1m176s\u001B[0m 637ms/step - accuracy: 0.8034 - loss: 0.5870 - val_accuracy: 0.6647 - val_loss: 1.1802 - learning_rate: 2.0000e-05\n",
      "Epoch 26/30\n",
      "\u001B[1m276/276\u001B[0m \u001B[32m━━━━━━━━━━━━━━━━━━━━\u001B[0m\u001B[37m\u001B[0m \u001B[1m0s\u001B[0m 609ms/step - accuracy: 0.8243 - loss: 0.5457\n",
      "Epoch 26: val_loss did not improve from 1.13581\n",
      "\u001B[1m276/276\u001B[0m \u001B[32m━━━━━━━━━━━━━━━━━━━━\u001B[0m\u001B[37m\u001B[0m \u001B[1m179s\u001B[0m 648ms/step - accuracy: 0.8243 - loss: 0.5457 - val_accuracy: 0.6594 - val_loss: 1.2095 - learning_rate: 4.0000e-06\n",
      "Epoch 27/30\n",
      "\u001B[1m276/276\u001B[0m \u001B[32m━━━━━━━━━━━━━━━━━━━━\u001B[0m\u001B[37m\u001B[0m \u001B[1m0s\u001B[0m 609ms/step - accuracy: 0.8240 - loss: 0.5291\n",
      "Epoch 27: val_loss did not improve from 1.13581\n",
      "\u001B[1m276/276\u001B[0m \u001B[32m━━━━━━━━━━━━━━━━━━━━\u001B[0m\u001B[37m\u001B[0m \u001B[1m179s\u001B[0m 648ms/step - accuracy: 0.8240 - loss: 0.5290 - val_accuracy: 0.6600 - val_loss: 1.2258 - learning_rate: 4.0000e-06\n",
      "Epoch 27: early stopping\n",
      "Restoring model weights from the end of the best epoch: 22.\n"
     ]
    }
   ],
   "execution_count": 28
  },
  {
   "metadata": {},
   "cell_type": "markdown",
   "source": "# Curvas de aprendizaje",
   "id": "11a2a41e1ef6508b"
  },
  {
   "metadata": {
    "ExecuteTime": {
     "end_time": "2024-12-16T18:58:57.287609Z",
     "start_time": "2024-12-16T18:58:56.629869Z"
    }
   },
   "cell_type": "code",
   "source": [
    "plt.plot(history.history['accuracy'], label='accuracy')\n",
    "plt.plot(history.history['val_accuracy'], label = 'val_accuracy')\n",
    "plt.xlabel('Epoch')\n",
    "plt.ylabel('Accuracy')\n",
    "plt.ylim([0, 1])\n",
    "plt.legend(loc='lower right')\n",
    "plt.show()"
   ],
   "id": "731b727abc14910f",
   "outputs": [
    {
     "data": {
      "text/plain": [
       "<Figure size 640x480 with 1 Axes>"
      ],
      "image/png": "[encoded data removed]"
     },
     "metadata": {},
     "output_type": "display_data"
    }
   ],
   "execution_count": 29
  },
  {
   "metadata": {
    "ExecuteTime": {
     "end_time": "2024-12-16T18:58:57.440627Z",
     "start_time": "2024-12-16T18:58:57.300523Z"
    }
   },
   "cell_type": "code",
   "source": [
    "plt.plot(history.history['loss'], label='loss')\n",
    "plt.plot(history.history['val_loss'], label = 'val_loss')\n",
    "plt.xlabel('Epoch')\n",
    "plt.ylabel('Loss')\n",
    "plt.ylim([0, 2])\n",
    "plt.legend(loc='upper right')\n",
    "plt.show()"
   ],
   "id": "ae97f63948d8d51f",
   "outputs": [
    {
     "data": {
      "text/plain": [
       "<Figure size 640x480 with 1 Axes>"
      ],
      "image/png": "[encoded data removed]"
     },
     "metadata": {},
     "output_type": "display_data"
    }
   ],
   "execution_count": 30
  },
  {
   "metadata": {
    "ExecuteTime": {
     "end_time": "2024-12-16T21:32:31.152703Z",
     "start_time": "2024-12-16T21:32:30.570586Z"
    }
   },
   "cell_type": "code",
   "source": [
    "# Save model\n",
    "model.save(\"/home/luciano/Documentos/Facultad/4to/2_semestre/Inteligencia_Artificial_2/ia2-uncuyo-2024/human-action-recognition/humanActionRecognition/models/fineTunedModel.keras\")"
   ],
   "id": "889347006bce4541",
   "outputs": [],
   "execution_count": 32
  }
 ],
 "metadata": {
  "kernelspec": {
   "display_name": "Python 3",
   "language": "python",
   "name": "python3"
  },
  "language_info": {
   "codemirror_mode": {
    "name": "ipython",
    "version": 2
   },
   "file_extension": ".py",
   "mimetype": "text/x-python",
   "name": "python",
   "nbconvert_exporter": "python",
   "pygments_lexer": "ipython2",
   "version": "2.7.6"
  }
 },
 "nbformat": 4,
 "nbformat_minor": 5
}
