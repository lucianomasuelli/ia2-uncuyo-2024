{
 "cells": [
  {
   "metadata": {},
   "cell_type": "markdown",
   "source": [
    "# Detección de Vehículos en Imágenes\n",
    "Claes en el dataaset:\n",
    "- car\n",
    "- threewheel\n",
    "- bus\n",
    "- truck\n",
    "- motorbike\n",
    "- van"
   ],
   "id": "24458c2ba697eff"
  },
  {
   "metadata": {
    "ExecuteTime": {
     "end_time": "2024-09-18T16:01:28.877929Z",
     "start_time": "2024-09-18T16:01:24.995828Z"
    }
   },
   "cell_type": "code",
   "source": [
    "import os\n",
    "from collections import Counter\n",
    "import matplotlib.pyplot as plt\n",
    "from ultralytics import YOLO"
   ],
   "id": "f894733e7f5188c1",
   "outputs": [],
   "execution_count": 1
  },
  {
   "cell_type": "code",
   "id": "initial_id",
   "metadata": {
    "collapsed": true,
    "ExecuteTime": {
     "end_time": "2024-09-17T14:25:22.737281Z",
     "start_time": "2024-09-17T14:25:21.821180Z"
    }
   },
   "source": [
    "def class_count(path):\n",
    "    class_counter = Counter()\n",
    "\n",
    "    # Recorre todos los archivos .txt de anotaciones en el directorio\n",
    "    for file in os.listdir(path):\n",
    "        if file.endswith(\".txt\"):\n",
    "            with open(os.path.join(path, file), 'r') as f:\n",
    "                for line in f:\n",
    "                    class_id = line.split()[0]\n",
    "                    class_counter[class_id] += 1\n",
    "\n",
    "    return class_counter\n",
    "\n",
    "def plot_distribution(class_counter):\n",
    "    clases = list(class_counter.keys())\n",
    "    counts = list(class_counter.values())\n",
    "\n",
    "    plt.bar(clases, counts)\n",
    "    plt.xlabel('Clases')\n",
    "    plt.ylabel('Número de Ejemplos')\n",
    "    plt.title('Distribución de Clases en el Dataset')\n",
    "    plt.show()\n",
    "\n",
    "path = 'data/train/labels'\n",
    "distribution_clases = class_count(path)\n",
    "\n",
    "print(\"Distribución de clases en el dataset:\")\n",
    "for clase, cantidad in distribution_clases.items():\n",
    "    print(f\"Clase {clase}: {cantidad} ejemplos\")\n",
    "\n",
    "# Graficar la distribución\n",
    "plot_distribution(distribution_clases)\n"
   ],
   "outputs": [
    {
     "name": "stdout",
     "output_type": "stream",
     "text": [
      "Distribución de clases en el dataset:\n",
      "Clase 0: 461 ejemplos\n",
      "Clase 5: 378 ejemplos\n",
      "Clase 2: 403 ejemplos\n",
      "Clase 1: 482 ejemplos\n",
      "Clase 3: 478 ejemplos\n",
      "Clase 4: 483 ejemplos\n"
     ]
    },
    {
     "data": {
      "text/plain": [
       "<Figure size 640x480 with 1 Axes>"
      ],
      "image/png": "[encoded data removed]"
     },
     "metadata": {},
     "output_type": "display_data"
    }
   ],
   "execution_count": 2
  },
  {
   "metadata": {
    "ExecuteTime": {
     "end_time": "2024-09-18T14:49:43.645499Z",
     "start_time": "2024-09-18T13:49:49.044208Z"
    }
   },
   "cell_type": "code",
   "source": [
    "# Inicializar y entrenar el modelo YOLOv8\n",
    "\n",
    "model = YOLO(\"yolov8n.yaml\")\n",
    "\n",
    "results = model.train(data=\"config.yaml\", epochs=50)"
   ],
   "id": "85f08103810b33b9",
   "outputs": [
    {
     "name": "stdout",
     "output_type": "stream",
     "text": [
      "New https://pypi.org/project/ultralytics/8.2.96 available 😃 Update with 'pip install -U ultralytics'\n",
      "Ultralytics YOLOv8.2.95 🚀 Python-3.12.2 torch-2.4.1+cu121 CUDA:0 (NVIDIA GeForce GTX 1060 with Max-Q Design, 6057MiB)\n",
      "\u001B[34m\u001B[1mengine/trainer: \u001B[0mtask=detect, mode=train, model=yolov8n.yaml, data=config.yaml, epochs=50, time=None, patience=100, batch=16, imgsz=640, save=True, save_period=-1, cache=False, device=None, workers=8, project=None, name=train6, exist_ok=False, pretrained=True, optimizer=auto, verbose=True, seed=0, deterministic=True, single_cls=False, rect=False, cos_lr=False, close_mosaic=10, resume=False, amp=True, fraction=1.0, profile=False, freeze=None, multi_scale=False, overlap_mask=True, mask_ratio=4, dropout=0.0, val=True, split=val, save_json=False, save_hybrid=False, conf=None, iou=0.7, max_det=300, half=False, dnn=False, plots=True, source=None, vid_stride=1, stream_buffer=False, visualize=False, augment=False, agnostic_nms=False, classes=None, retina_masks=False, embed=None, show=False, save_frames=False, save_txt=False, save_conf=False, save_crop=False, show_labels=True, show_conf=True, show_boxes=True, line_width=None, format=torchscript, keras=False, optimize=False, int8=False, dynamic=False, simplify=False, opset=None, workspace=4, nms=False, lr0=0.01, lrf=0.01, momentum=0.937, weight_decay=0.0005, warmup_epochs=3.0, warmup_momentum=0.8, warmup_bias_lr=0.1, box=7.5, cls=0.5, dfl=1.5, pose=12.0, kobj=1.0, label_smoothing=0.0, nbs=64, hsv_h=0.015, hsv_s=0.7, hsv_v=0.4, degrees=0.0, translate=0.1, scale=0.5, shear=0.0, perspective=0.0, flipud=0.0, fliplr=0.5, bgr=0.0, mosaic=1.0, mixup=0.0, copy_paste=0.0, auto_augment=randaugment, erasing=0.4, crop_fraction=1.0, cfg=None, tracker=botsort.yaml, save_dir=runs/detect/train6\n",
      "Overriding model.yaml nc=80 with nc=6\n",
      "\n",
      "                   from  n    params  module                                       arguments                     \n",
      "  0                  -1  1       464  ultralytics.nn.modules.conv.Conv             [3, 16, 3, 2]                 \n",
      "  1                  -1  1      4672  ultralytics.nn.modules.conv.Conv             [16, 32, 3, 2]                \n",
      "  2                  -1  1      7360  ultralytics.nn.modules.block.C2f             [32, 32, 1, True]             \n",
      "  3                  -1  1     18560  ultralytics.nn.modules.conv.Conv             [32, 64, 3, 2]                \n",
      "  4                  -1  2     49664  ultralytics.nn.modules.block.C2f             [64, 64, 2, True]             \n",
      "  5                  -1  1     73984  ultralytics.nn.modules.conv.Conv             [64, 128, 3, 2]               \n",
      "  6                  -1  2    197632  ultralytics.nn.modules.block.C2f             [128, 128, 2, True]           \n",
      "  7                  -1  1    295424  ultralytics.nn.modules.conv.Conv             [128, 256, 3, 2]              \n",
      "  8                  -1  1    460288  ultralytics.nn.modules.block.C2f             [256, 256, 1, True]           \n",
      "  9                  -1  1    164608  ultralytics.nn.modules.block.SPPF            [256, 256, 5]                 \n",
      " 10                  -1  1         0  torch.nn.modules.upsampling.Upsample         [None, 2, 'nearest']          \n",
      " 11             [-1, 6]  1         0  ultralytics.nn.modules.conv.Concat           [1]                           \n",
      " 12                  -1  1    148224  ultralytics.nn.modules.block.C2f             [384, 128, 1]                 \n",
      " 13                  -1  1         0  torch.nn.modules.upsampling.Upsample         [None, 2, 'nearest']          \n",
      " 14             [-1, 4]  1         0  ultralytics.nn.modules.conv.Concat           [1]                           \n",
      " 15                  -1  1     37248  ultralytics.nn.modules.block.C2f             [192, 64, 1]                  \n",
      " 16                  -1  1     36992  ultralytics.nn.modules.conv.Conv             [64, 64, 3, 2]                \n",
      " 17            [-1, 12]  1         0  ultralytics.nn.modules.conv.Concat           [1]                           \n",
      " 18                  -1  1    123648  ultralytics.nn.modules.block.C2f             [192, 128, 1]                 \n",
      " 19                  -1  1    147712  ultralytics.nn.modules.conv.Conv             [128, 128, 3, 2]              \n",
      " 20             [-1, 9]  1         0  ultralytics.nn.modules.conv.Concat           [1]                           \n",
      " 21                  -1  1    493056  ultralytics.nn.modules.block.C2f             [384, 256, 1]                 \n",
      " 22        [15, 18, 21]  1    752482  ultralytics.nn.modules.head.Detect           [6, [64, 128, 256]]           \n",
      "YOLOv8n summary: 225 layers, 3,012,018 parameters, 3,012,002 gradients, 8.2 GFLOPs\n",
      "\n",
      "\u001B[34m\u001B[1mTensorBoard: \u001B[0mStart with 'tensorboard --logdir runs/detect/train6', view at http://localhost:6006/\n",
      "Freezing layer 'model.22.dfl.conv.weight'\n",
      "\u001B[34m\u001B[1mAMP: \u001B[0mrunning Automatic Mixed Precision (AMP) checks with YOLOv8n...\n",
      "\u001B[34m\u001B[1mAMP: \u001B[0mchecks passed ✅\n"
     ]
    },
    {
     "name": "stderr",
     "output_type": "stream",
     "text": [
      "\u001B[34m\u001B[1mtrain: \u001B[0mScanning /home/luciano/Documentos/Facultad/4to/2_semestre/ia2-practica/practica_yolo/vehicleDetection/data/train/labels.cache... 1890 images, 0 backgrounds, 0 corrupt: 100%|██████████| 1890/1890 [00:00<?, ?it/s]\n",
      "\u001B[34m\u001B[1mval: \u001B[0mScanning /home/luciano/Documentos/Facultad/4to/2_semestre/ia2-practica/practica_yolo/vehicleDetection/data/valid/labels.cache... 900 images, 0 backgrounds, 0 corrupt: 100%|██████████| 900/900 [00:00<?, ?it/s]"
     ]
    },
    {
     "name": "stdout",
     "output_type": "stream",
     "text": [
      "\u001B[34m\u001B[1mval: \u001B[0mWARNING ⚠️ /home/luciano/Documentos/Facultad/4to/2_semestre/ia2-practica/practica_yolo/vehicleDetection/data/valid/images/car55.jpg: corrupt JPEG restored and saved\n"
     ]
    },
    {
     "name": "stderr",
     "output_type": "stream",
     "text": [
      "\n"
     ]
    },
    {
     "name": "stdout",
     "output_type": "stream",
     "text": [
      "Plotting labels to runs/detect/train6/labels.jpg... \n",
      "\u001B[34m\u001B[1moptimizer:\u001B[0m 'optimizer=auto' found, ignoring 'lr0=0.01' and 'momentum=0.937' and determining best 'optimizer', 'lr0' and 'momentum' automatically... \n",
      "\u001B[34m\u001B[1moptimizer:\u001B[0m AdamW(lr=0.001, momentum=0.9) with parameter groups 57 weight(decay=0.0), 64 weight(decay=0.0005), 63 bias(decay=0.0)\n",
      "\u001B[34m\u001B[1mTensorBoard: \u001B[0mmodel graph visualization added ✅\n",
      "Image sizes 640 train, 640 val\n",
      "Using 4 dataloader workers\n",
      "Logging results to \u001B[1mruns/detect/train6\u001B[0m\n",
      "Starting training for 50 epochs...\n",
      "\n",
      "      Epoch    GPU_mem   box_loss   cls_loss   dfl_loss  Instances       Size\n"
     ]
    },
    {
     "name": "stderr",
     "output_type": "stream",
     "text": [
      "       1/50      2.35G      3.122       4.45      4.319         46        640:   5%|▌         | 6/119 [00:03<01:03,  1.77it/s]libpng warning: iCCP: known incorrect sRGB profile\n",
      "       1/50      2.39G      3.047       4.22       4.08          3        640: 100%|██████████| 119/119 [01:00<00:00,  1.98it/s]\n",
      "                 Class     Images  Instances      Box(P          R      mAP50  mAP50-95):  55%|█████▌    | 16/29 [00:04<00:03,  3.39it/s]libpng warning: iCCP: known incorrect sRGB profile\n",
      "                 Class     Images  Instances      Box(P          R      mAP50  mAP50-95): 100%|██████████| 29/29 [00:08<00:00,  3.30it/s]\n"
     ]
    },
    {
     "name": "stdout",
     "output_type": "stream",
     "text": [
      "                   all        900       1150    0.00333      0.711     0.0109     0.0034\n",
      "\n",
      "      Epoch    GPU_mem   box_loss   cls_loss   dfl_loss  Instances       Size\n"
     ]
    },
    {
     "name": "stderr",
     "output_type": "stream",
     "text": [
      "       2/50      2.34G      2.952      3.959      3.644         49        640:  24%|██▎       | 28/119 [00:13<00:43,  2.08it/s]libpng warning: iCCP: known incorrect sRGB profile\n",
      "       2/50      2.38G      2.708      3.783      3.397          7        640: 100%|██████████| 119/119 [00:58<00:00,  2.03it/s]\n",
      "                 Class     Images  Instances      Box(P          R      mAP50  mAP50-95):  55%|█████▌    | 16/29 [00:04<00:04,  3.16it/s]libpng warning: iCCP: known incorrect sRGB profile\n",
      "                 Class     Images  Instances      Box(P          R      mAP50  mAP50-95): 100%|██████████| 29/29 [00:09<00:00,  3.20it/s]\n"
     ]
    },
    {
     "name": "stdout",
     "output_type": "stream",
     "text": [
      "                   all        900       1150      0.112       0.19     0.0505     0.0146\n",
      "\n",
      "      Epoch    GPU_mem   box_loss   cls_loss   dfl_loss  Instances       Size\n"
     ]
    },
    {
     "name": "stderr",
     "output_type": "stream",
     "text": [
      "       3/50      2.33G      2.447      3.606      3.067         57        640:   4%|▍         | 5/119 [00:02<00:55,  2.05it/s]libpng warning: iCCP: known incorrect sRGB profile\n",
      "       3/50      2.38G      2.198      3.394      2.844          5        640: 100%|██████████| 119/119 [00:58<00:00,  2.05it/s]\n",
      "                 Class     Images  Instances      Box(P          R      mAP50  mAP50-95):  55%|█████▌    | 16/29 [00:04<00:03,  3.44it/s]libpng warning: iCCP: known incorrect sRGB profile\n",
      "                 Class     Images  Instances      Box(P          R      mAP50  mAP50-95): 100%|██████████| 29/29 [00:08<00:00,  3.51it/s]\n"
     ]
    },
    {
     "name": "stdout",
     "output_type": "stream",
     "text": [
      "                   all        900       1150      0.647      0.123      0.108      0.039\n",
      "\n",
      "      Epoch    GPU_mem   box_loss   cls_loss   dfl_loss  Instances       Size\n"
     ]
    },
    {
     "name": "stderr",
     "output_type": "stream",
     "text": [
      "       4/50      2.33G      1.974      3.139      2.582         57        640:  36%|███▌      | 43/119 [00:21<00:36,  2.06it/s]libpng warning: iCCP: known incorrect sRGB profile\n",
      "       4/50      2.38G      1.897      3.022      2.497          5        640: 100%|██████████| 119/119 [00:58<00:00,  2.03it/s]\n",
      "                 Class     Images  Instances      Box(P          R      mAP50  mAP50-95):  55%|█████▌    | 16/29 [00:04<00:03,  3.38it/s]libpng warning: iCCP: known incorrect sRGB profile\n",
      "                 Class     Images  Instances      Box(P          R      mAP50  mAP50-95): 100%|██████████| 29/29 [00:08<00:00,  3.48it/s]\n"
     ]
    },
    {
     "name": "stdout",
     "output_type": "stream",
     "text": [
      "                   all        900       1150      0.178       0.32      0.195     0.0868\n",
      "\n",
      "      Epoch    GPU_mem   box_loss   cls_loss   dfl_loss  Instances       Size\n"
     ]
    },
    {
     "name": "stderr",
     "output_type": "stream",
     "text": [
      "       5/50      2.33G        1.7       2.73      2.264         47        640:  49%|████▊     | 58/119 [00:28<00:29,  2.06it/s]libpng warning: iCCP: known incorrect sRGB profile\n",
      "       5/50      2.37G      1.675      2.653      2.231          5        640: 100%|██████████| 119/119 [00:58<00:00,  2.05it/s]\n",
      "                 Class     Images  Instances      Box(P          R      mAP50  mAP50-95):  55%|█████▌    | 16/29 [00:04<00:03,  3.33it/s]libpng warning: iCCP: known incorrect sRGB profile\n",
      "                 Class     Images  Instances      Box(P          R      mAP50  mAP50-95): 100%|██████████| 29/29 [00:08<00:00,  3.46it/s]"
     ]
    },
    {
     "name": "stdout",
     "output_type": "stream",
     "text": [
      "                   all        900       1150      0.255      0.431      0.295      0.149\n"
     ]
    },
    {
     "name": "stderr",
     "output_type": "stream",
     "text": [
      "\n"
     ]
    },
    {
     "name": "stdout",
     "output_type": "stream",
     "text": [
      "\n",
      "      Epoch    GPU_mem   box_loss   cls_loss   dfl_loss  Instances       Size\n"
     ]
    },
    {
     "name": "stderr",
     "output_type": "stream",
     "text": [
      "       6/50      2.34G       1.58      2.407      2.128         56        640:  81%|████████  | 96/119 [00:47<00:11,  2.00it/s]libpng warning: iCCP: known incorrect sRGB profile\n",
      "       6/50      2.38G      1.562      2.373      2.107          5        640: 100%|██████████| 119/119 [00:58<00:00,  2.04it/s]\n",
      "                 Class     Images  Instances      Box(P          R      mAP50  mAP50-95):  55%|█████▌    | 16/29 [00:04<00:03,  3.50it/s]libpng warning: iCCP: known incorrect sRGB profile\n",
      "                 Class     Images  Instances      Box(P          R      mAP50  mAP50-95): 100%|██████████| 29/29 [00:08<00:00,  3.55it/s]"
     ]
    },
    {
     "name": "stdout",
     "output_type": "stream",
     "text": [
      "                   all        900       1150      0.411      0.471      0.417      0.261\n"
     ]
    },
    {
     "name": "stderr",
     "output_type": "stream",
     "text": [
      "\n"
     ]
    },
    {
     "name": "stdout",
     "output_type": "stream",
     "text": [
      "\n",
      "      Epoch    GPU_mem   box_loss   cls_loss   dfl_loss  Instances       Size\n"
     ]
    },
    {
     "name": "stderr",
     "output_type": "stream",
     "text": [
      "       7/50      2.33G      1.481      2.249      2.028         56        640:  72%|███████▏  | 86/119 [00:42<00:16,  1.99it/s]libpng warning: iCCP: known incorrect sRGB profile\n",
      "       7/50      2.37G      1.459       2.21      2.005          7        640: 100%|██████████| 119/119 [00:58<00:00,  2.04it/s]\n",
      "                 Class     Images  Instances      Box(P          R      mAP50  mAP50-95):  55%|█████▌    | 16/29 [00:04<00:03,  3.47it/s]libpng warning: iCCP: known incorrect sRGB profile\n",
      "                 Class     Images  Instances      Box(P          R      mAP50  mAP50-95): 100%|██████████| 29/29 [00:08<00:00,  3.54it/s]"
     ]
    },
    {
     "name": "stdout",
     "output_type": "stream",
     "text": [
      "                   all        900       1150       0.44      0.551      0.514      0.349\n"
     ]
    },
    {
     "name": "stderr",
     "output_type": "stream",
     "text": [
      "\n"
     ]
    },
    {
     "name": "stdout",
     "output_type": "stream",
     "text": [
      "\n",
      "      Epoch    GPU_mem   box_loss   cls_loss   dfl_loss  Instances       Size\n"
     ]
    },
    {
     "name": "stderr",
     "output_type": "stream",
     "text": [
      "       8/50      2.33G      1.376      2.062      1.923         51        640:  61%|██████▏   | 73/119 [00:36<00:23,  1.99it/s]libpng warning: iCCP: known incorrect sRGB profile\n",
      "       8/50      2.37G      1.361      2.052      1.901          3        640: 100%|██████████| 119/119 [00:58<00:00,  2.04it/s]\n",
      "                 Class     Images  Instances      Box(P          R      mAP50  mAP50-95):  55%|█████▌    | 16/29 [00:04<00:03,  3.50it/s]libpng warning: iCCP: known incorrect sRGB profile\n",
      "                 Class     Images  Instances      Box(P          R      mAP50  mAP50-95): 100%|██████████| 29/29 [00:08<00:00,  3.57it/s]"
     ]
    },
    {
     "name": "stdout",
     "output_type": "stream",
     "text": [
      "                   all        900       1150      0.508      0.531      0.537      0.366\n"
     ]
    },
    {
     "name": "stderr",
     "output_type": "stream",
     "text": [
      "\n"
     ]
    },
    {
     "name": "stdout",
     "output_type": "stream",
     "text": [
      "\n",
      "      Epoch    GPU_mem   box_loss   cls_loss   dfl_loss  Instances       Size\n"
     ]
    },
    {
     "name": "stderr",
     "output_type": "stream",
     "text": [
      "       9/50      2.33G      1.323      1.968      1.862         44        640:  51%|█████▏    | 61/119 [00:30<00:28,  2.02it/s]libpng warning: iCCP: known incorrect sRGB profile\n",
      "       9/50      2.36G      1.305      1.941      1.847          7        640: 100%|██████████| 119/119 [00:58<00:00,  2.04it/s]\n",
      "                 Class     Images  Instances      Box(P          R      mAP50  mAP50-95):  55%|█████▌    | 16/29 [00:04<00:03,  3.51it/s]libpng warning: iCCP: known incorrect sRGB profile\n",
      "                 Class     Images  Instances      Box(P          R      mAP50  mAP50-95): 100%|██████████| 29/29 [00:08<00:00,  3.58it/s]"
     ]
    },
    {
     "name": "stdout",
     "output_type": "stream",
     "text": [
      "                   all        900       1150      0.629      0.536      0.598      0.416\n"
     ]
    },
    {
     "name": "stderr",
     "output_type": "stream",
     "text": [
      "\n"
     ]
    },
    {
     "name": "stdout",
     "output_type": "stream",
     "text": [
      "\n",
      "      Epoch    GPU_mem   box_loss   cls_loss   dfl_loss  Instances       Size\n"
     ]
    },
    {
     "name": "stderr",
     "output_type": "stream",
     "text": [
      "      10/50      2.33G      1.293      1.914      1.824         52        640:  24%|██▍       | 29/119 [00:14<00:44,  2.04it/s]libpng warning: iCCP: known incorrect sRGB profile\n",
      "      10/50      2.37G       1.25      1.847      1.792          6        640: 100%|██████████| 119/119 [00:57<00:00,  2.06it/s]\n",
      "                 Class     Images  Instances      Box(P          R      mAP50  mAP50-95):  55%|█████▌    | 16/29 [00:04<00:03,  3.50it/s]libpng warning: iCCP: known incorrect sRGB profile\n",
      "                 Class     Images  Instances      Box(P          R      mAP50  mAP50-95): 100%|██████████| 29/29 [00:08<00:00,  3.58it/s]"
     ]
    },
    {
     "name": "stdout",
     "output_type": "stream",
     "text": [
      "                   all        900       1150      0.525       0.54       0.56      0.393\n"
     ]
    },
    {
     "name": "stderr",
     "output_type": "stream",
     "text": [
      "\n"
     ]
    },
    {
     "name": "stdout",
     "output_type": "stream",
     "text": [
      "\n",
      "      Epoch    GPU_mem   box_loss   cls_loss   dfl_loss  Instances       Size\n"
     ]
    },
    {
     "name": "stderr",
     "output_type": "stream",
     "text": [
      "      11/50      2.33G      1.242      1.788      1.787         36        640:  50%|████▉     | 59/119 [00:29<00:29,  2.06it/s]libpng warning: iCCP: known incorrect sRGB profile\n",
      "      11/50      2.37G      1.224      1.764      1.765          8        640: 100%|██████████| 119/119 [00:58<00:00,  2.04it/s]\n",
      "                 Class     Images  Instances      Box(P          R      mAP50  mAP50-95):  55%|█████▌    | 16/29 [00:05<00:04,  2.86it/s]libpng warning: iCCP: known incorrect sRGB profile\n",
      "                 Class     Images  Instances      Box(P          R      mAP50  mAP50-95): 100%|██████████| 29/29 [00:10<00:00,  2.86it/s]"
     ]
    },
    {
     "name": "stdout",
     "output_type": "stream",
     "text": [
      "                   all        900       1150      0.621      0.613      0.658       0.48\n"
     ]
    },
    {
     "name": "stderr",
     "output_type": "stream",
     "text": [
      "\n"
     ]
    },
    {
     "name": "stdout",
     "output_type": "stream",
     "text": [
      "\n",
      "      Epoch    GPU_mem   box_loss   cls_loss   dfl_loss  Instances       Size\n"
     ]
    },
    {
     "name": "stderr",
     "output_type": "stream",
     "text": [
      "      12/50      2.33G       1.19      1.687       1.73         55        640:  62%|██████▏   | 74/119 [00:41<00:24,  1.80it/s]libpng warning: iCCP: known incorrect sRGB profile\n",
      "      12/50      2.33G      1.167      1.656      1.706         47        640:  97%|█████████▋| 116/119 [01:04<00:01,  1.81it/s]libpng warning: iCCP: known incorrect sRGB profile\n",
      "      12/50      2.37G      1.166      1.651      1.705          6        640: 100%|██████████| 119/119 [01:05<00:00,  1.81it/s]\n",
      "                 Class     Images  Instances      Box(P          R      mAP50  mAP50-95):  55%|█████▌    | 16/29 [00:05<00:04,  2.86it/s]libpng warning: iCCP: known incorrect sRGB profile\n",
      "                 Class     Images  Instances      Box(P          R      mAP50  mAP50-95): 100%|██████████| 29/29 [00:09<00:00,  2.93it/s]"
     ]
    },
    {
     "name": "stdout",
     "output_type": "stream",
     "text": [
      "                   all        900       1150      0.677      0.625       0.68      0.493\n"
     ]
    },
    {
     "name": "stderr",
     "output_type": "stream",
     "text": [
      "\n"
     ]
    },
    {
     "name": "stdout",
     "output_type": "stream",
     "text": [
      "\n",
      "      Epoch    GPU_mem   box_loss   cls_loss   dfl_loss  Instances       Size\n"
     ]
    },
    {
     "name": "stderr",
     "output_type": "stream",
     "text": [
      "      13/50      2.36G      1.116      1.572      1.652          8        640: 100%|██████████| 119/119 [01:05<00:00,  1.81it/s]\n",
      "                 Class     Images  Instances      Box(P          R      mAP50  mAP50-95):  55%|█████▌    | 16/29 [00:05<00:04,  2.85it/s]libpng warning: iCCP: known incorrect sRGB profile\n",
      "                 Class     Images  Instances      Box(P          R      mAP50  mAP50-95): 100%|██████████| 29/29 [00:09<00:00,  2.91it/s]"
     ]
    },
    {
     "name": "stdout",
     "output_type": "stream",
     "text": [
      "                   all        900       1150      0.688      0.625      0.685      0.506\n"
     ]
    },
    {
     "name": "stderr",
     "output_type": "stream",
     "text": [
      "\n"
     ]
    },
    {
     "name": "stdout",
     "output_type": "stream",
     "text": [
      "\n",
      "      Epoch    GPU_mem   box_loss   cls_loss   dfl_loss  Instances       Size\n"
     ]
    },
    {
     "name": "stderr",
     "output_type": "stream",
     "text": [
      "      14/50      2.33G      1.105      1.534      1.657         53        640:   1%|          | 1/119 [00:00<01:07,  1.75it/s]libpng warning: iCCP: known incorrect sRGB profile\n",
      "      14/50      2.37G      1.104      1.545      1.637          6        640: 100%|██████████| 119/119 [01:05<00:00,  1.81it/s]\n",
      "                 Class     Images  Instances      Box(P          R      mAP50  mAP50-95):  55%|█████▌    | 16/29 [00:05<00:04,  2.88it/s]libpng warning: iCCP: known incorrect sRGB profile\n",
      "                 Class     Images  Instances      Box(P          R      mAP50  mAP50-95): 100%|██████████| 29/29 [00:09<00:00,  2.94it/s]"
     ]
    },
    {
     "name": "stdout",
     "output_type": "stream",
     "text": [
      "                   all        900       1150      0.703      0.671      0.747      0.561\n"
     ]
    },
    {
     "name": "stderr",
     "output_type": "stream",
     "text": [
      "\n"
     ]
    },
    {
     "name": "stdout",
     "output_type": "stream",
     "text": [
      "\n",
      "      Epoch    GPU_mem   box_loss   cls_loss   dfl_loss  Instances       Size\n"
     ]
    },
    {
     "name": "stderr",
     "output_type": "stream",
     "text": [
      "      15/50      2.32G      1.086      1.476      1.625         65        640:  23%|██▎       | 27/119 [00:14<00:50,  1.81it/s]libpng warning: iCCP: known incorrect sRGB profile\n",
      "      15/50      2.37G      1.079      1.479       1.62          6        640: 100%|██████████| 119/119 [01:05<00:00,  1.81it/s]\n",
      "                 Class     Images  Instances      Box(P          R      mAP50  mAP50-95):  55%|█████▌    | 16/29 [00:05<00:04,  2.88it/s]libpng warning: iCCP: known incorrect sRGB profile\n",
      "                 Class     Images  Instances      Box(P          R      mAP50  mAP50-95): 100%|██████████| 29/29 [00:09<00:00,  2.95it/s]"
     ]
    },
    {
     "name": "stdout",
     "output_type": "stream",
     "text": [
      "                   all        900       1150       0.72       0.66      0.736      0.553\n"
     ]
    },
    {
     "name": "stderr",
     "output_type": "stream",
     "text": [
      "\n"
     ]
    },
    {
     "name": "stdout",
     "output_type": "stream",
     "text": [
      "\n",
      "      Epoch    GPU_mem   box_loss   cls_loss   dfl_loss  Instances       Size\n"
     ]
    },
    {
     "name": "stderr",
     "output_type": "stream",
     "text": [
      "      16/50      2.32G      1.065      1.441      1.607         51        640:  73%|███████▎  | 87/119 [00:48<00:17,  1.80it/s]libpng warning: iCCP: known incorrect sRGB profile\n",
      "      16/50      2.37G      1.065      1.442      1.605          3        640: 100%|██████████| 119/119 [01:05<00:00,  1.81it/s]\n",
      "                 Class     Images  Instances      Box(P          R      mAP50  mAP50-95):  55%|█████▌    | 16/29 [00:05<00:04,  2.86it/s]libpng warning: iCCP: known incorrect sRGB profile\n",
      "                 Class     Images  Instances      Box(P          R      mAP50  mAP50-95): 100%|██████████| 29/29 [00:09<00:00,  2.95it/s]"
     ]
    },
    {
     "name": "stdout",
     "output_type": "stream",
     "text": [
      "                   all        900       1150      0.719      0.699      0.783      0.612\n"
     ]
    },
    {
     "name": "stderr",
     "output_type": "stream",
     "text": [
      "\n"
     ]
    },
    {
     "name": "stdout",
     "output_type": "stream",
     "text": [
      "\n",
      "      Epoch    GPU_mem   box_loss   cls_loss   dfl_loss  Instances       Size\n"
     ]
    },
    {
     "name": "stderr",
     "output_type": "stream",
     "text": [
      "      17/50      2.32G      1.002      1.336      1.551         47        640:  46%|████▌     | 55/119 [00:30<00:35,  1.80it/s]libpng warning: iCCP: known incorrect sRGB profile\n",
      "      17/50      2.36G      1.028      1.386      1.567          7        640: 100%|██████████| 119/119 [01:05<00:00,  1.81it/s]\n",
      "                 Class     Images  Instances      Box(P          R      mAP50  mAP50-95):  55%|█████▌    | 16/29 [00:05<00:04,  2.86it/s]libpng warning: iCCP: known incorrect sRGB profile\n",
      "                 Class     Images  Instances      Box(P          R      mAP50  mAP50-95): 100%|██████████| 29/29 [00:09<00:00,  2.93it/s]"
     ]
    },
    {
     "name": "stdout",
     "output_type": "stream",
     "text": [
      "                   all        900       1150      0.731      0.656      0.771      0.585\n"
     ]
    },
    {
     "name": "stderr",
     "output_type": "stream",
     "text": [
      "\n"
     ]
    },
    {
     "name": "stdout",
     "output_type": "stream",
     "text": [
      "\n",
      "      Epoch    GPU_mem   box_loss   cls_loss   dfl_loss  Instances       Size\n"
     ]
    },
    {
     "name": "stderr",
     "output_type": "stream",
     "text": [
      "      18/50      2.34G      1.011      1.349      1.544         43        640:  85%|████████▍ | 101/119 [00:56<00:09,  1.81it/s]libpng warning: iCCP: known incorrect sRGB profile\n",
      "      18/50      2.37G      1.006      1.348      1.541          5        640: 100%|██████████| 119/119 [01:05<00:00,  1.81it/s]\n",
      "                 Class     Images  Instances      Box(P          R      mAP50  mAP50-95):  55%|█████▌    | 16/29 [00:05<00:04,  2.88it/s]libpng warning: iCCP: known incorrect sRGB profile\n",
      "                 Class     Images  Instances      Box(P          R      mAP50  mAP50-95): 100%|██████████| 29/29 [00:09<00:00,  2.95it/s]"
     ]
    },
    {
     "name": "stdout",
     "output_type": "stream",
     "text": [
      "                   all        900       1150      0.724      0.697      0.766      0.598\n"
     ]
    },
    {
     "name": "stderr",
     "output_type": "stream",
     "text": [
      "\n"
     ]
    },
    {
     "name": "stdout",
     "output_type": "stream",
     "text": [
      "\n",
      "      Epoch    GPU_mem   box_loss   cls_loss   dfl_loss  Instances       Size\n"
     ]
    },
    {
     "name": "stderr",
     "output_type": "stream",
     "text": [
      "      19/50      2.33G     0.9272      1.295      1.477         50        640:   8%|▊         | 9/119 [00:04<01:00,  1.80it/s]libpng warning: iCCP: known incorrect sRGB profile\n",
      "      19/50      2.37G     0.9744      1.286      1.508          4        640: 100%|██████████| 119/119 [01:05<00:00,  1.81it/s]\n",
      "                 Class     Images  Instances      Box(P          R      mAP50  mAP50-95):  55%|█████▌    | 16/29 [00:05<00:04,  2.89it/s]libpng warning: iCCP: known incorrect sRGB profile\n",
      "                 Class     Images  Instances      Box(P          R      mAP50  mAP50-95): 100%|██████████| 29/29 [00:09<00:00,  2.95it/s]"
     ]
    },
    {
     "name": "stdout",
     "output_type": "stream",
     "text": [
      "                   all        900       1150      0.747      0.676      0.782      0.613\n"
     ]
    },
    {
     "name": "stderr",
     "output_type": "stream",
     "text": [
      "\n"
     ]
    },
    {
     "name": "stdout",
     "output_type": "stream",
     "text": [
      "\n",
      "      Epoch    GPU_mem   box_loss   cls_loss   dfl_loss  Instances       Size\n"
     ]
    },
    {
     "name": "stderr",
     "output_type": "stream",
     "text": [
      "      20/50      2.32G      1.057      1.396      1.561         46        640:   7%|▋         | 8/119 [00:04<01:01,  1.81it/s]libpng warning: iCCP: known incorrect sRGB profile\n",
      "      20/50      2.37G     0.9635      1.259      1.488          4        640: 100%|██████████| 119/119 [01:05<00:00,  1.81it/s]\n",
      "                 Class     Images  Instances      Box(P          R      mAP50  mAP50-95):  55%|█████▌    | 16/29 [00:05<00:04,  2.88it/s]libpng warning: iCCP: known incorrect sRGB profile\n",
      "                 Class     Images  Instances      Box(P          R      mAP50  mAP50-95): 100%|██████████| 29/29 [00:09<00:00,  2.94it/s]"
     ]
    },
    {
     "name": "stdout",
     "output_type": "stream",
     "text": [
      "                   all        900       1150      0.821      0.701      0.824      0.648\n"
     ]
    },
    {
     "name": "stderr",
     "output_type": "stream",
     "text": [
      "\n"
     ]
    },
    {
     "name": "stdout",
     "output_type": "stream",
     "text": [
      "\n",
      "      Epoch    GPU_mem   box_loss   cls_loss   dfl_loss  Instances       Size\n"
     ]
    },
    {
     "name": "stderr",
     "output_type": "stream",
     "text": [
      "      21/50      2.33G      0.944      1.216      1.473         62        640:  88%|████████▊ | 105/119 [00:58<00:07,  1.81it/s]libpng warning: iCCP: known incorrect sRGB profile\n",
      "      21/50      2.36G     0.9462      1.222      1.476          6        640: 100%|██████████| 119/119 [01:05<00:00,  1.81it/s]\n",
      "                 Class     Images  Instances      Box(P          R      mAP50  mAP50-95):  55%|█████▌    | 16/29 [00:05<00:04,  2.88it/s]libpng warning: iCCP: known incorrect sRGB profile\n",
      "                 Class     Images  Instances      Box(P          R      mAP50  mAP50-95): 100%|██████████| 29/29 [00:09<00:00,  2.95it/s]"
     ]
    },
    {
     "name": "stdout",
     "output_type": "stream",
     "text": [
      "                   all        900       1150      0.829      0.745      0.854      0.674\n"
     ]
    },
    {
     "name": "stderr",
     "output_type": "stream",
     "text": [
      "\n"
     ]
    },
    {
     "name": "stdout",
     "output_type": "stream",
     "text": [
      "\n",
      "      Epoch    GPU_mem   box_loss   cls_loss   dfl_loss  Instances       Size\n"
     ]
    },
    {
     "name": "stderr",
     "output_type": "stream",
     "text": [
      "      22/50      2.34G      0.946      1.187      1.477         59        640:  51%|█████▏    | 61/119 [00:33<00:32,  1.80it/s]libpng warning: iCCP: known incorrect sRGB profile\n",
      "      22/50      2.37G     0.9352      1.177      1.467          8        640: 100%|██████████| 119/119 [01:05<00:00,  1.81it/s]\n",
      "                 Class     Images  Instances      Box(P          R      mAP50  mAP50-95):  55%|█████▌    | 16/29 [00:05<00:04,  2.89it/s]libpng warning: iCCP: known incorrect sRGB profile\n",
      "                 Class     Images  Instances      Box(P          R      mAP50  mAP50-95): 100%|██████████| 29/29 [00:09<00:00,  2.95it/s]"
     ]
    },
    {
     "name": "stdout",
     "output_type": "stream",
     "text": [
      "                   all        900       1150       0.83      0.747      0.844      0.673\n"
     ]
    },
    {
     "name": "stderr",
     "output_type": "stream",
     "text": [
      "\n"
     ]
    },
    {
     "name": "stdout",
     "output_type": "stream",
     "text": [
      "\n",
      "      Epoch    GPU_mem   box_loss   cls_loss   dfl_loss  Instances       Size\n"
     ]
    },
    {
     "name": "stderr",
     "output_type": "stream",
     "text": [
      "      23/50      2.32G     0.9058       1.16      1.441         58        640:  76%|███████▌  | 90/119 [00:49<00:16,  1.81it/s]libpng warning: iCCP: known incorrect sRGB profile\n",
      "      23/50      2.37G     0.9103      1.168      1.445          4        640: 100%|██████████| 119/119 [01:05<00:00,  1.81it/s]\n",
      "                 Class     Images  Instances      Box(P          R      mAP50  mAP50-95):  55%|█████▌    | 16/29 [00:05<00:04,  2.88it/s]libpng warning: iCCP: known incorrect sRGB profile\n",
      "                 Class     Images  Instances      Box(P          R      mAP50  mAP50-95): 100%|██████████| 29/29 [00:09<00:00,  2.96it/s]"
     ]
    },
    {
     "name": "stdout",
     "output_type": "stream",
     "text": [
      "                   all        900       1150      0.726      0.753        0.8      0.648\n"
     ]
    },
    {
     "name": "stderr",
     "output_type": "stream",
     "text": [
      "\n"
     ]
    },
    {
     "name": "stdout",
     "output_type": "stream",
     "text": [
      "\n",
      "      Epoch    GPU_mem   box_loss   cls_loss   dfl_loss  Instances       Size\n"
     ]
    },
    {
     "name": "stderr",
     "output_type": "stream",
     "text": [
      "      24/50      2.33G     0.9597      1.199      1.482         52        640:  20%|██        | 24/119 [00:13<00:52,  1.80it/s]libpng warning: iCCP: known incorrect sRGB profile\n",
      "      24/50      2.37G     0.9088       1.13      1.436          4        640: 100%|██████████| 119/119 [01:05<00:00,  1.81it/s]\n",
      "                 Class     Images  Instances      Box(P          R      mAP50  mAP50-95):  55%|█████▌    | 16/29 [00:05<00:04,  2.89it/s]libpng warning: iCCP: known incorrect sRGB profile\n",
      "                 Class     Images  Instances      Box(P          R      mAP50  mAP50-95): 100%|██████████| 29/29 [00:09<00:00,  2.94it/s]"
     ]
    },
    {
     "name": "stdout",
     "output_type": "stream",
     "text": [
      "                   all        900       1150       0.83      0.748      0.849      0.688\n"
     ]
    },
    {
     "name": "stderr",
     "output_type": "stream",
     "text": [
      "\n"
     ]
    },
    {
     "name": "stdout",
     "output_type": "stream",
     "text": [
      "\n",
      "      Epoch    GPU_mem   box_loss   cls_loss   dfl_loss  Instances       Size\n"
     ]
    },
    {
     "name": "stderr",
     "output_type": "stream",
     "text": [
      "      25/50      2.32G     0.8922       1.12      1.426         42        640:  76%|███████▋  | 91/119 [00:47<00:14,  1.98it/s]libpng warning: iCCP: known incorrect sRGB profile\n",
      "      25/50      2.36G     0.8859      1.115      1.421          6        640: 100%|██████████| 119/119 [01:01<00:00,  1.94it/s]\n",
      "                 Class     Images  Instances      Box(P          R      mAP50  mAP50-95):  55%|█████▌    | 16/29 [00:04<00:03,  3.50it/s]libpng warning: iCCP: known incorrect sRGB profile\n",
      "                 Class     Images  Instances      Box(P          R      mAP50  mAP50-95): 100%|██████████| 29/29 [00:08<00:00,  3.58it/s]"
     ]
    },
    {
     "name": "stdout",
     "output_type": "stream",
     "text": [
      "                   all        900       1150       0.84      0.772      0.874      0.694\n"
     ]
    },
    {
     "name": "stderr",
     "output_type": "stream",
     "text": [
      "\n"
     ]
    },
    {
     "name": "stdout",
     "output_type": "stream",
     "text": [
      "\n",
      "      Epoch    GPU_mem   box_loss   cls_loss   dfl_loss  Instances       Size\n"
     ]
    },
    {
     "name": "stderr",
     "output_type": "stream",
     "text": [
      "      26/50      2.33G     0.8992      1.108      1.435         40        640:  18%|█▊        | 21/119 [00:10<00:47,  2.05it/s]libpng warning: iCCP: known incorrect sRGB profile\n",
      "      26/50      2.37G     0.8812      1.107      1.417          7        640: 100%|██████████| 119/119 [00:58<00:00,  2.04it/s]\n",
      "                 Class     Images  Instances      Box(P          R      mAP50  mAP50-95):  55%|█████▌    | 16/29 [00:04<00:03,  3.51it/s]libpng warning: iCCP: known incorrect sRGB profile\n",
      "                 Class     Images  Instances      Box(P          R      mAP50  mAP50-95): 100%|██████████| 29/29 [00:08<00:00,  3.57it/s]"
     ]
    },
    {
     "name": "stdout",
     "output_type": "stream",
     "text": [
      "                   all        900       1150      0.784      0.755       0.84      0.678\n"
     ]
    },
    {
     "name": "stderr",
     "output_type": "stream",
     "text": [
      "\n"
     ]
    },
    {
     "name": "stdout",
     "output_type": "stream",
     "text": [
      "\n",
      "      Epoch    GPU_mem   box_loss   cls_loss   dfl_loss  Instances       Size\n"
     ]
    },
    {
     "name": "stderr",
     "output_type": "stream",
     "text": [
      "      27/50      2.33G     0.8843      1.111      1.418         62        640:  25%|██▌       | 30/119 [00:14<00:43,  2.03it/s]libpng warning: iCCP: known incorrect sRGB profile\n",
      "      27/50      2.37G     0.8801      1.088      1.417          4        640: 100%|██████████| 119/119 [00:58<00:00,  2.05it/s]\n",
      "                 Class     Images  Instances      Box(P          R      mAP50  mAP50-95):  55%|█████▌    | 16/29 [00:04<00:03,  3.49it/s]libpng warning: iCCP: known incorrect sRGB profile\n",
      "                 Class     Images  Instances      Box(P          R      mAP50  mAP50-95): 100%|██████████| 29/29 [00:08<00:00,  3.60it/s]"
     ]
    },
    {
     "name": "stdout",
     "output_type": "stream",
     "text": [
      "                   all        900       1150      0.828      0.784      0.874      0.708\n"
     ]
    },
    {
     "name": "stderr",
     "output_type": "stream",
     "text": [
      "\n"
     ]
    },
    {
     "name": "stdout",
     "output_type": "stream",
     "text": [
      "\n",
      "      Epoch    GPU_mem   box_loss   cls_loss   dfl_loss  Instances       Size\n"
     ]
    },
    {
     "name": "stderr",
     "output_type": "stream",
     "text": [
      "      28/50      2.32G     0.8552      1.041      1.404         49        640:  51%|█████▏    | 61/119 [00:30<00:29,  1.98it/s]libpng warning: iCCP: known incorrect sRGB profile\n",
      "      28/50      2.37G     0.8388      1.031      1.383          7        640: 100%|██████████| 119/119 [00:58<00:00,  2.04it/s]\n",
      "                 Class     Images  Instances      Box(P          R      mAP50  mAP50-95):  55%|█████▌    | 16/29 [00:04<00:03,  3.50it/s]libpng warning: iCCP: known incorrect sRGB profile\n",
      "                 Class     Images  Instances      Box(P          R      mAP50  mAP50-95): 100%|██████████| 29/29 [00:08<00:00,  3.59it/s]"
     ]
    },
    {
     "name": "stdout",
     "output_type": "stream",
     "text": [
      "                   all        900       1150      0.908      0.769      0.888       0.72\n"
     ]
    },
    {
     "name": "stderr",
     "output_type": "stream",
     "text": [
      "\n"
     ]
    },
    {
     "name": "stdout",
     "output_type": "stream",
     "text": [
      "\n",
      "      Epoch    GPU_mem   box_loss   cls_loss   dfl_loss  Instances       Size\n"
     ]
    },
    {
     "name": "stderr",
     "output_type": "stream",
     "text": [
      "      29/50      2.33G     0.8895       1.04      1.412         55        640:  16%|█▌        | 19/119 [00:09<00:48,  2.05it/s]libpng warning: iCCP: known incorrect sRGB profile\n",
      "      29/50      2.36G     0.8525      1.031       1.39          6        640: 100%|██████████| 119/119 [00:58<00:00,  2.05it/s]\n",
      "                 Class     Images  Instances      Box(P          R      mAP50  mAP50-95):  55%|█████▌    | 16/29 [00:04<00:03,  3.50it/s]libpng warning: iCCP: known incorrect sRGB profile\n",
      "                 Class     Images  Instances      Box(P          R      mAP50  mAP50-95): 100%|██████████| 29/29 [00:08<00:00,  3.59it/s]"
     ]
    },
    {
     "name": "stdout",
     "output_type": "stream",
     "text": [
      "                   all        900       1150      0.856        0.8      0.887      0.732\n"
     ]
    },
    {
     "name": "stderr",
     "output_type": "stream",
     "text": [
      "\n"
     ]
    },
    {
     "name": "stdout",
     "output_type": "stream",
     "text": [
      "\n",
      "      Epoch    GPU_mem   box_loss   cls_loss   dfl_loss  Instances       Size\n"
     ]
    },
    {
     "name": "stderr",
     "output_type": "stream",
     "text": [
      "      30/50      2.33G     0.8257     0.9949      1.363         55        640:  79%|███████▉  | 94/119 [00:45<00:11,  2.09it/s]libpng warning: iCCP: known incorrect sRGB profile\n",
      "      30/50      2.37G     0.8315          1      1.368          9        640: 100%|██████████| 119/119 [00:58<00:00,  2.05it/s]\n",
      "                 Class     Images  Instances      Box(P          R      mAP50  mAP50-95):  55%|█████▌    | 16/29 [00:04<00:03,  3.50it/s]libpng warning: iCCP: known incorrect sRGB profile\n",
      "                 Class     Images  Instances      Box(P          R      mAP50  mAP50-95): 100%|██████████| 29/29 [00:08<00:00,  3.60it/s]"
     ]
    },
    {
     "name": "stdout",
     "output_type": "stream",
     "text": [
      "                   all        900       1150      0.879        0.8      0.898      0.748\n"
     ]
    },
    {
     "name": "stderr",
     "output_type": "stream",
     "text": [
      "\n"
     ]
    },
    {
     "name": "stdout",
     "output_type": "stream",
     "text": [
      "\n",
      "      Epoch    GPU_mem   box_loss   cls_loss   dfl_loss  Instances       Size\n"
     ]
    },
    {
     "name": "stderr",
     "output_type": "stream",
     "text": [
      "      31/50      2.33G     0.8186     0.9919      1.359         58        640:  54%|█████▍    | 64/119 [00:31<00:27,  1.98it/s]libpng warning: iCCP: known incorrect sRGB profile\n",
      "      31/50      2.37G     0.8259     0.9904      1.368          6        640: 100%|██████████| 119/119 [00:58<00:00,  2.04it/s]\n",
      "                 Class     Images  Instances      Box(P          R      mAP50  mAP50-95):  55%|█████▌    | 16/29 [00:04<00:03,  3.49it/s]libpng warning: iCCP: known incorrect sRGB profile\n",
      "                 Class     Images  Instances      Box(P          R      mAP50  mAP50-95): 100%|██████████| 29/29 [00:08<00:00,  3.60it/s]"
     ]
    },
    {
     "name": "stdout",
     "output_type": "stream",
     "text": [
      "                   all        900       1150       0.87      0.824       0.91      0.756\n"
     ]
    },
    {
     "name": "stderr",
     "output_type": "stream",
     "text": [
      "\n"
     ]
    },
    {
     "name": "stdout",
     "output_type": "stream",
     "text": [
      "\n",
      "      Epoch    GPU_mem   box_loss   cls_loss   dfl_loss  Instances       Size\n"
     ]
    },
    {
     "name": "stderr",
     "output_type": "stream",
     "text": [
      "      32/50      2.33G     0.8039     0.9835      1.356         53        640:  55%|█████▍    | 65/119 [00:32<00:26,  2.00it/s]libpng warning: iCCP: known incorrect sRGB profile\n",
      "      32/50      2.37G     0.8138     0.9899       1.36          8        640: 100%|██████████| 119/119 [00:59<00:00,  2.02it/s]\n",
      "                 Class     Images  Instances      Box(P          R      mAP50  mAP50-95):  55%|█████▌    | 16/29 [00:05<00:04,  2.89it/s]libpng warning: iCCP: known incorrect sRGB profile\n",
      "                 Class     Images  Instances      Box(P          R      mAP50  mAP50-95): 100%|██████████| 29/29 [00:09<00:00,  2.97it/s]"
     ]
    },
    {
     "name": "stdout",
     "output_type": "stream",
     "text": [
      "                   all        900       1150      0.898      0.815      0.906      0.763\n"
     ]
    },
    {
     "name": "stderr",
     "output_type": "stream",
     "text": [
      "\n"
     ]
    },
    {
     "name": "stdout",
     "output_type": "stream",
     "text": [
      "\n",
      "      Epoch    GPU_mem   box_loss   cls_loss   dfl_loss  Instances       Size\n"
     ]
    },
    {
     "name": "stderr",
     "output_type": "stream",
     "text": [
      "      33/50      2.33G     0.7883     0.9293      1.337         42        640:  74%|███████▍  | 88/119 [00:48<00:17,  1.81it/s]libpng warning: iCCP: known incorrect sRGB profile\n",
      "      33/50      2.36G     0.8001     0.9489      1.343          6        640: 100%|██████████| 119/119 [01:05<00:00,  1.81it/s]\n",
      "                 Class     Images  Instances      Box(P          R      mAP50  mAP50-95):  55%|█████▌    | 16/29 [00:05<00:04,  2.88it/s]libpng warning: iCCP: known incorrect sRGB profile\n",
      "                 Class     Images  Instances      Box(P          R      mAP50  mAP50-95): 100%|██████████| 29/29 [00:09<00:00,  2.96it/s]"
     ]
    },
    {
     "name": "stdout",
     "output_type": "stream",
     "text": [
      "                   all        900       1150      0.918      0.834      0.919      0.764\n"
     ]
    },
    {
     "name": "stderr",
     "output_type": "stream",
     "text": [
      "\n"
     ]
    },
    {
     "name": "stdout",
     "output_type": "stream",
     "text": [
      "\n",
      "      Epoch    GPU_mem   box_loss   cls_loss   dfl_loss  Instances       Size\n"
     ]
    },
    {
     "name": "stderr",
     "output_type": "stream",
     "text": [
      "      34/50      2.34G     0.8399     0.9804      1.378         56        640:  31%|███       | 37/119 [00:20<00:45,  1.80it/s]libpng warning: iCCP: known incorrect sRGB profile\n",
      "      34/50      2.37G     0.8013     0.9395      1.345          6        640: 100%|██████████| 119/119 [01:05<00:00,  1.81it/s]\n",
      "                 Class     Images  Instances      Box(P          R      mAP50  mAP50-95):  55%|█████▌    | 16/29 [00:05<00:04,  2.88it/s]libpng warning: iCCP: known incorrect sRGB profile\n",
      "                 Class     Images  Instances      Box(P          R      mAP50  mAP50-95): 100%|██████████| 29/29 [00:09<00:00,  2.97it/s]"
     ]
    },
    {
     "name": "stdout",
     "output_type": "stream",
     "text": [
      "                   all        900       1150      0.888      0.834      0.913      0.758\n"
     ]
    },
    {
     "name": "stderr",
     "output_type": "stream",
     "text": [
      "\n"
     ]
    },
    {
     "name": "stdout",
     "output_type": "stream",
     "text": [
      "\n",
      "      Epoch    GPU_mem   box_loss   cls_loss   dfl_loss  Instances       Size\n"
     ]
    },
    {
     "name": "stderr",
     "output_type": "stream",
     "text": [
      "      35/50      2.32G     0.7718     0.9245      1.317         44        640:  67%|██████▋   | 80/119 [00:44<00:21,  1.80it/s]libpng warning: iCCP: known incorrect sRGB profile\n",
      "      35/50      2.37G     0.7767     0.9288      1.323         12        640: 100%|██████████| 119/119 [01:05<00:00,  1.81it/s]\n",
      "                 Class     Images  Instances      Box(P          R      mAP50  mAP50-95):  55%|█████▌    | 16/29 [00:05<00:04,  2.88it/s]libpng warning: iCCP: known incorrect sRGB profile\n",
      "                 Class     Images  Instances      Box(P          R      mAP50  mAP50-95): 100%|██████████| 29/29 [00:09<00:00,  2.94it/s]"
     ]
    },
    {
     "name": "stdout",
     "output_type": "stream",
     "text": [
      "                   all        900       1150      0.919      0.814      0.914       0.77\n"
     ]
    },
    {
     "name": "stderr",
     "output_type": "stream",
     "text": [
      "\n"
     ]
    },
    {
     "name": "stdout",
     "output_type": "stream",
     "text": [
      "\n",
      "      Epoch    GPU_mem   box_loss   cls_loss   dfl_loss  Instances       Size\n"
     ]
    },
    {
     "name": "stderr",
     "output_type": "stream",
     "text": [
      "      36/50      2.32G      0.763     0.9129      1.316         48        640:  59%|█████▉    | 70/119 [00:38<00:27,  1.80it/s]libpng warning: iCCP: known incorrect sRGB profile\n",
      "      36/50      2.37G     0.7779     0.9253      1.325          5        640: 100%|██████████| 119/119 [01:05<00:00,  1.81it/s]\n",
      "                 Class     Images  Instances      Box(P          R      mAP50  mAP50-95):  55%|█████▌    | 16/29 [00:05<00:04,  2.89it/s]libpng warning: iCCP: known incorrect sRGB profile\n",
      "                 Class     Images  Instances      Box(P          R      mAP50  mAP50-95): 100%|██████████| 29/29 [00:09<00:00,  2.97it/s]"
     ]
    },
    {
     "name": "stdout",
     "output_type": "stream",
     "text": [
      "                   all        900       1150      0.901      0.837      0.923      0.779\n"
     ]
    },
    {
     "name": "stderr",
     "output_type": "stream",
     "text": [
      "\n"
     ]
    },
    {
     "name": "stdout",
     "output_type": "stream",
     "text": [
      "\n",
      "      Epoch    GPU_mem   box_loss   cls_loss   dfl_loss  Instances       Size\n"
     ]
    },
    {
     "name": "stderr",
     "output_type": "stream",
     "text": [
      "      37/50      2.32G     0.7518     0.8738      1.309         53        640:  77%|███████▋  | 92/119 [00:51<00:14,  1.81it/s]libpng warning: iCCP: known incorrect sRGB profile\n",
      "      37/50      2.36G     0.7551     0.8812       1.31          4        640: 100%|██████████| 119/119 [01:05<00:00,  1.81it/s]\n",
      "                 Class     Images  Instances      Box(P          R      mAP50  mAP50-95):  55%|█████▌    | 16/29 [00:05<00:04,  2.89it/s]libpng warning: iCCP: known incorrect sRGB profile\n",
      "                 Class     Images  Instances      Box(P          R      mAP50  mAP50-95): 100%|██████████| 29/29 [00:09<00:00,  2.96it/s]"
     ]
    },
    {
     "name": "stdout",
     "output_type": "stream",
     "text": [
      "                   all        900       1150      0.911      0.812       0.91      0.768\n"
     ]
    },
    {
     "name": "stderr",
     "output_type": "stream",
     "text": [
      "\n"
     ]
    },
    {
     "name": "stdout",
     "output_type": "stream",
     "text": [
      "\n",
      "      Epoch    GPU_mem   box_loss   cls_loss   dfl_loss  Instances       Size\n"
     ]
    },
    {
     "name": "stderr",
     "output_type": "stream",
     "text": [
      "      38/50      2.33G     0.7937     0.9341      1.344         57        640:  19%|█▉        | 23/119 [00:12<00:54,  1.78it/s]libpng warning: iCCP: known incorrect sRGB profile\n",
      "      38/50      2.37G     0.7795     0.9133      1.328          9        640: 100%|██████████| 119/119 [01:05<00:00,  1.81it/s]\n",
      "                 Class     Images  Instances      Box(P          R      mAP50  mAP50-95):  55%|█████▌    | 16/29 [00:05<00:04,  2.90it/s]libpng warning: iCCP: known incorrect sRGB profile\n",
      "                 Class     Images  Instances      Box(P          R      mAP50  mAP50-95): 100%|██████████| 29/29 [00:09<00:00,  2.97it/s]"
     ]
    },
    {
     "name": "stdout",
     "output_type": "stream",
     "text": [
      "                   all        900       1150      0.892      0.824      0.916      0.771\n"
     ]
    },
    {
     "name": "stderr",
     "output_type": "stream",
     "text": [
      "\n"
     ]
    },
    {
     "name": "stdout",
     "output_type": "stream",
     "text": [
      "\n",
      "      Epoch    GPU_mem   box_loss   cls_loss   dfl_loss  Instances       Size\n"
     ]
    },
    {
     "name": "stderr",
     "output_type": "stream",
     "text": [
      "      39/50      2.32G     0.7375     0.8383      1.289         66        640:  55%|█████▍    | 65/119 [00:36<00:30,  1.79it/s]libpng warning: iCCP: known incorrect sRGB profile\n",
      "      39/50      2.37G     0.7478     0.8517      1.298          6        640: 100%|██████████| 119/119 [01:05<00:00,  1.81it/s]\n",
      "                 Class     Images  Instances      Box(P          R      mAP50  mAP50-95):  55%|█████▌    | 16/29 [00:05<00:04,  2.89it/s]libpng warning: iCCP: known incorrect sRGB profile\n",
      "                 Class     Images  Instances      Box(P          R      mAP50  mAP50-95): 100%|██████████| 29/29 [00:09<00:00,  2.96it/s]"
     ]
    },
    {
     "name": "stdout",
     "output_type": "stream",
     "text": [
      "                   all        900       1150      0.894      0.858      0.921      0.777\n"
     ]
    },
    {
     "name": "stderr",
     "output_type": "stream",
     "text": [
      "\n"
     ]
    },
    {
     "name": "stdout",
     "output_type": "stream",
     "text": [
      "\n",
      "      Epoch    GPU_mem   box_loss   cls_loss   dfl_loss  Instances       Size\n"
     ]
    },
    {
     "name": "stderr",
     "output_type": "stream",
     "text": [
      "      40/50      2.32G     0.7845     0.7943      1.301         54        640:   1%|          | 1/119 [00:00<01:08,  1.71it/s]libpng warning: iCCP: known incorrect sRGB profile\n",
      "      40/50      2.37G     0.7288     0.8511       1.29          9        640: 100%|██████████| 119/119 [01:05<00:00,  1.81it/s]\n",
      "                 Class     Images  Instances      Box(P          R      mAP50  mAP50-95):  55%|█████▌    | 16/29 [00:05<00:04,  2.87it/s]libpng warning: iCCP: known incorrect sRGB profile\n",
      "                 Class     Images  Instances      Box(P          R      mAP50  mAP50-95): 100%|██████████| 29/29 [00:09<00:00,  2.94it/s]"
     ]
    },
    {
     "name": "stdout",
     "output_type": "stream",
     "text": [
      "                   all        900       1150      0.918       0.83      0.923      0.784\n"
     ]
    },
    {
     "name": "stderr",
     "output_type": "stream",
     "text": [
      "\n"
     ]
    },
    {
     "name": "stdout",
     "output_type": "stream",
     "text": [
      "Closing dataloader mosaic\n",
      "\n",
      "      Epoch    GPU_mem   box_loss   cls_loss   dfl_loss  Instances       Size\n"
     ]
    },
    {
     "name": "stderr",
     "output_type": "stream",
     "text": [
      "      41/50      2.32G     0.6277     0.6976      1.214         20        640:  76%|███████▋  | 91/119 [00:51<00:15,  1.81it/s]libpng warning: iCCP: known incorrect sRGB profile\n",
      "      41/50      2.36G     0.6134     0.6718      1.201          2        640: 100%|██████████| 119/119 [01:06<00:00,  1.79it/s]\n",
      "                 Class     Images  Instances      Box(P          R      mAP50  mAP50-95):  55%|█████▌    | 16/29 [00:05<00:04,  2.89it/s]libpng warning: iCCP: known incorrect sRGB profile\n",
      "                 Class     Images  Instances      Box(P          R      mAP50  mAP50-95): 100%|██████████| 29/29 [00:09<00:00,  2.97it/s]"
     ]
    },
    {
     "name": "stdout",
     "output_type": "stream",
     "text": [
      "                   all        900       1150      0.926      0.852      0.926      0.782\n"
     ]
    },
    {
     "name": "stderr",
     "output_type": "stream",
     "text": [
      "\n"
     ]
    },
    {
     "name": "stdout",
     "output_type": "stream",
     "text": [
      "\n",
      "      Epoch    GPU_mem   box_loss   cls_loss   dfl_loss  Instances       Size\n"
     ]
    },
    {
     "name": "stderr",
     "output_type": "stream",
     "text": [
      "      42/50      2.34G     0.5802     0.6086      1.167         17        640:  83%|████████▎ | 99/119 [00:53<00:09,  2.02it/s]libpng warning: iCCP: known incorrect sRGB profile\n",
      "      42/50      2.37G     0.5803     0.6049      1.173          2        640: 100%|██████████| 119/119 [01:02<00:00,  1.90it/s]\n",
      "                 Class     Images  Instances      Box(P          R      mAP50  mAP50-95):  55%|█████▌    | 16/29 [00:04<00:03,  3.51it/s]libpng warning: iCCP: known incorrect sRGB profile\n",
      "                 Class     Images  Instances      Box(P          R      mAP50  mAP50-95): 100%|██████████| 29/29 [00:08<00:00,  3.58it/s]"
     ]
    },
    {
     "name": "stdout",
     "output_type": "stream",
     "text": [
      "                   all        900       1150      0.911       0.82      0.915      0.776\n"
     ]
    },
    {
     "name": "stderr",
     "output_type": "stream",
     "text": [
      "\n"
     ]
    },
    {
     "name": "stdout",
     "output_type": "stream",
     "text": [
      "\n",
      "      Epoch    GPU_mem   box_loss   cls_loss   dfl_loss  Instances       Size\n"
     ]
    },
    {
     "name": "stderr",
     "output_type": "stream",
     "text": [
      "      43/50      2.32G     0.5869     0.5965      1.169         18        640:  76%|███████▌  | 90/119 [00:43<00:13,  2.07it/s]libpng warning: iCCP: known incorrect sRGB profile\n",
      "      43/50      2.37G     0.5774     0.5917      1.164          3        640: 100%|██████████| 119/119 [00:57<00:00,  2.07it/s]\n",
      "                 Class     Images  Instances      Box(P          R      mAP50  mAP50-95):  55%|█████▌    | 16/29 [00:04<00:03,  3.50it/s]libpng warning: iCCP: known incorrect sRGB profile\n",
      "                 Class     Images  Instances      Box(P          R      mAP50  mAP50-95): 100%|██████████| 29/29 [00:08<00:00,  3.57it/s]"
     ]
    },
    {
     "name": "stdout",
     "output_type": "stream",
     "text": [
      "                   all        900       1150      0.918      0.859      0.933      0.794\n"
     ]
    },
    {
     "name": "stderr",
     "output_type": "stream",
     "text": [
      "\n"
     ]
    },
    {
     "name": "stdout",
     "output_type": "stream",
     "text": [
      "\n",
      "      Epoch    GPU_mem   box_loss   cls_loss   dfl_loss  Instances       Size\n"
     ]
    },
    {
     "name": "stderr",
     "output_type": "stream",
     "text": [
      "      44/50      2.33G     0.5424      0.569      1.125         17        640:  69%|██████▉   | 82/119 [00:40<00:18,  2.01it/s]libpng warning: iCCP: known incorrect sRGB profile\n",
      "      44/50      2.37G     0.5516      0.596      1.137          2        640: 100%|██████████| 119/119 [00:57<00:00,  2.06it/s]\n",
      "                 Class     Images  Instances      Box(P          R      mAP50  mAP50-95):  55%|█████▌    | 16/29 [00:04<00:03,  3.49it/s]libpng warning: iCCP: known incorrect sRGB profile\n",
      "                 Class     Images  Instances      Box(P          R      mAP50  mAP50-95): 100%|██████████| 29/29 [00:08<00:00,  3.58it/s]"
     ]
    },
    {
     "name": "stdout",
     "output_type": "stream",
     "text": [
      "                   all        900       1150      0.925      0.851      0.929      0.795\n"
     ]
    },
    {
     "name": "stderr",
     "output_type": "stream",
     "text": [
      "\n"
     ]
    },
    {
     "name": "stdout",
     "output_type": "stream",
     "text": [
      "\n",
      "      Epoch    GPU_mem   box_loss   cls_loss   dfl_loss  Instances       Size\n"
     ]
    },
    {
     "name": "stderr",
     "output_type": "stream",
     "text": [
      "      45/50      2.32G     0.5634     0.5823      1.157         19        640:  18%|█▊        | 21/119 [00:10<00:47,  2.08it/s]libpng warning: iCCP: known incorrect sRGB profile\n",
      "      45/50      2.32G     0.5456     0.5556      1.136         24        640:  99%|█████████▉| 118/119 [00:57<00:00,  2.04it/s]libpng warning: iCCP: known incorrect sRGB profile\n",
      "      45/50      2.36G     0.5437     0.5567      1.136          2        640: 100%|██████████| 119/119 [00:57<00:00,  2.06it/s]\n",
      "                 Class     Images  Instances      Box(P          R      mAP50  mAP50-95):  55%|█████▌    | 16/29 [00:04<00:03,  3.49it/s]libpng warning: iCCP: known incorrect sRGB profile\n",
      "                 Class     Images  Instances      Box(P          R      mAP50  mAP50-95): 100%|██████████| 29/29 [00:08<00:00,  3.58it/s]"
     ]
    },
    {
     "name": "stdout",
     "output_type": "stream",
     "text": [
      "                   all        900       1150      0.933      0.855      0.927      0.796\n"
     ]
    },
    {
     "name": "stderr",
     "output_type": "stream",
     "text": [
      "\n"
     ]
    },
    {
     "name": "stdout",
     "output_type": "stream",
     "text": [
      "\n",
      "      Epoch    GPU_mem   box_loss   cls_loss   dfl_loss  Instances       Size\n"
     ]
    },
    {
     "name": "stderr",
     "output_type": "stream",
     "text": [
      "      46/50      2.37G     0.5412      0.526      1.126          3        640: 100%|██████████| 119/119 [00:57<00:00,  2.07it/s]\n",
      "                 Class     Images  Instances      Box(P          R      mAP50  mAP50-95):  55%|█████▌    | 16/29 [00:04<00:03,  3.55it/s]libpng warning: iCCP: known incorrect sRGB profile\n",
      "                 Class     Images  Instances      Box(P          R      mAP50  mAP50-95): 100%|██████████| 29/29 [00:07<00:00,  3.63it/s]"
     ]
    },
    {
     "name": "stdout",
     "output_type": "stream",
     "text": [
      "                   all        900       1150      0.918       0.87      0.935      0.806\n"
     ]
    },
    {
     "name": "stderr",
     "output_type": "stream",
     "text": [
      "\n"
     ]
    },
    {
     "name": "stdout",
     "output_type": "stream",
     "text": [
      "\n",
      "      Epoch    GPU_mem   box_loss   cls_loss   dfl_loss  Instances       Size\n"
     ]
    },
    {
     "name": "stderr",
     "output_type": "stream",
     "text": [
      "      47/50      2.32G     0.5179      0.507       1.12         21        640:  41%|████      | 49/119 [00:23<00:33,  2.07it/s]libpng warning: iCCP: known incorrect sRGB profile\n",
      "      47/50      2.37G     0.5299     0.5287      1.119          6        640: 100%|██████████| 119/119 [00:57<00:00,  2.08it/s]\n",
      "                 Class     Images  Instances      Box(P          R      mAP50  mAP50-95):  55%|█████▌    | 16/29 [00:04<00:03,  3.55it/s]libpng warning: iCCP: known incorrect sRGB profile\n",
      "                 Class     Images  Instances      Box(P          R      mAP50  mAP50-95): 100%|██████████| 29/29 [00:08<00:00,  3.62it/s]"
     ]
    },
    {
     "name": "stdout",
     "output_type": "stream",
     "text": [
      "                   all        900       1150      0.931      0.859      0.934       0.81\n"
     ]
    },
    {
     "name": "stderr",
     "output_type": "stream",
     "text": [
      "\n"
     ]
    },
    {
     "name": "stdout",
     "output_type": "stream",
     "text": [
      "\n",
      "      Epoch    GPU_mem   box_loss   cls_loss   dfl_loss  Instances       Size\n"
     ]
    },
    {
     "name": "stderr",
     "output_type": "stream",
     "text": [
      "      48/50      2.32G     0.5094     0.5103      1.119         18        640:  29%|██▉       | 35/119 [00:16<00:40,  2.05it/s]libpng warning: iCCP: known incorrect sRGB profile\n",
      "      48/50      2.37G     0.5188      0.522      1.114          2        640: 100%|██████████| 119/119 [00:57<00:00,  2.08it/s]\n",
      "                 Class     Images  Instances      Box(P          R      mAP50  mAP50-95):  55%|█████▌    | 16/29 [00:04<00:03,  3.55it/s]libpng warning: iCCP: known incorrect sRGB profile\n",
      "                 Class     Images  Instances      Box(P          R      mAP50  mAP50-95): 100%|██████████| 29/29 [00:07<00:00,  3.63it/s]"
     ]
    },
    {
     "name": "stdout",
     "output_type": "stream",
     "text": [
      "                   all        900       1150      0.912      0.883       0.94      0.813\n"
     ]
    },
    {
     "name": "stderr",
     "output_type": "stream",
     "text": [
      "\n"
     ]
    },
    {
     "name": "stdout",
     "output_type": "stream",
     "text": [
      "\n",
      "      Epoch    GPU_mem   box_loss   cls_loss   dfl_loss  Instances       Size\n"
     ]
    },
    {
     "name": "stderr",
     "output_type": "stream",
     "text": [
      "      49/50      2.32G     0.5168     0.4967       1.11         19        640:  65%|██████▍   | 77/119 [00:37<00:20,  2.05it/s]libpng warning: iCCP: known incorrect sRGB profile\n",
      "      49/50      2.36G     0.5131     0.5018      1.106          2        640: 100%|██████████| 119/119 [00:57<00:00,  2.08it/s]\n",
      "                 Class     Images  Instances      Box(P          R      mAP50  mAP50-95):  55%|█████▌    | 16/29 [00:04<00:03,  3.58it/s]libpng warning: iCCP: known incorrect sRGB profile\n",
      "                 Class     Images  Instances      Box(P          R      mAP50  mAP50-95): 100%|██████████| 29/29 [00:07<00:00,  3.65it/s]"
     ]
    },
    {
     "name": "stdout",
     "output_type": "stream",
     "text": [
      "                   all        900       1150      0.917      0.878      0.939      0.816\n"
     ]
    },
    {
     "name": "stderr",
     "output_type": "stream",
     "text": [
      "\n"
     ]
    },
    {
     "name": "stdout",
     "output_type": "stream",
     "text": [
      "\n",
      "      Epoch    GPU_mem   box_loss   cls_loss   dfl_loss  Instances       Size\n"
     ]
    },
    {
     "name": "stderr",
     "output_type": "stream",
     "text": [
      "      50/50      2.34G     0.4755     0.4712        1.1         17        640:  13%|█▎        | 15/119 [00:07<00:51,  2.01it/s]libpng warning: iCCP: known incorrect sRGB profile\n",
      "      50/50      2.37G     0.5034     0.4943      1.101          2        640: 100%|██████████| 119/119 [00:58<00:00,  2.02it/s]\n",
      "                 Class     Images  Instances      Box(P          R      mAP50  mAP50-95):  55%|█████▌    | 16/29 [00:04<00:03,  3.49it/s]libpng warning: iCCP: known incorrect sRGB profile\n",
      "                 Class     Images  Instances      Box(P          R      mAP50  mAP50-95): 100%|██████████| 29/29 [00:08<00:00,  3.56it/s]"
     ]
    },
    {
     "name": "stdout",
     "output_type": "stream",
     "text": [
      "                   all        900       1150      0.941      0.871      0.942      0.818\n"
     ]
    },
    {
     "name": "stderr",
     "output_type": "stream",
     "text": [
      "\n"
     ]
    },
    {
     "name": "stdout",
     "output_type": "stream",
     "text": [
      "\n",
      "50 epochs completed in 0.990 hours.\n",
      "Optimizer stripped from runs/detect/train6/weights/last.pt, 6.2MB\n",
      "Optimizer stripped from runs/detect/train6/weights/best.pt, 6.2MB\n",
      "\n",
      "Validating runs/detect/train6/weights/best.pt...\n",
      "Ultralytics YOLOv8.2.95 🚀 Python-3.12.2 torch-2.4.1+cu121 CUDA:0 (NVIDIA GeForce GTX 1060 with Max-Q Design, 6057MiB)\n",
      "YOLOv8n summary (fused): 168 layers, 3,006,818 parameters, 0 gradients, 8.1 GFLOPs\n"
     ]
    },
    {
     "name": "stderr",
     "output_type": "stream",
     "text": [
      "                 Class     Images  Instances      Box(P          R      mAP50  mAP50-95):  55%|█████▌    | 16/29 [00:05<00:03,  3.26it/s]libpng warning: iCCP: known incorrect sRGB profile\n",
      "                 Class     Images  Instances      Box(P          R      mAP50  mAP50-95): 100%|██████████| 29/29 [00:09<00:00,  3.16it/s]\n"
     ]
    },
    {
     "name": "stdout",
     "output_type": "stream",
     "text": [
      "                   all        900       1150      0.941      0.871      0.942      0.818\n",
      "                   car        182        201      0.965      0.861      0.928      0.871\n",
      "            threewheel        167        227      0.964       0.89      0.963      0.816\n",
      "                   bus        162        185      0.971      0.919      0.976      0.893\n",
      "                 truck        123        151      0.868      0.917      0.948      0.797\n",
      "             motorbike        165        216      0.932      0.762      0.888       0.63\n",
      "                   van        157        170      0.944      0.876      0.947      0.903\n",
      "Speed: 0.3ms preprocess, 6.0ms inference, 0.0ms loss, 0.9ms postprocess per image\n",
      "Results saved to \u001B[1mruns/detect/train6\u001B[0m\n"
     ]
    }
   ],
   "execution_count": 3
  },
  {
   "metadata": {},
   "cell_type": "markdown",
   "source": "",
   "id": "18ee13dda1f290c1"
  },
  {
   "metadata": {
    "ExecuteTime": {
     "end_time": "2024-09-18T16:23:54.930146Z",
     "start_time": "2024-09-18T16:23:54.531719Z"
    }
   },
   "cell_type": "code",
   "source": [
    "# Evaluar el modelo en el conjunto de test\n",
    "model = YOLO(\"/home/luciano/Documentos/Facultad/4to/2_semestre/ia2-practica/practica_yolo/vehicleDetection/runs/detect/train6/weights/best.pt\")\n",
    "\n",
    "source = \"/home/luciano/Documentos/Facultad/4to/2_semestre/ia2-practica/practica_yolo/vehicleDetection/data/test/images\"\n",
    "\n",
    "results = model(source, stream=True)"
   ],
   "id": "1a61a4d9ef886b9",
   "outputs": [],
   "execution_count": 5
  }
 ],
 "metadata": {
  "kernelspec": {
   "display_name": "Python 3",
   "language": "python",
   "name": "python3"
  },
  "language_info": {
   "codemirror_mode": {
    "name": "ipython",
    "version": 2
   },
   "file_extension": ".py",
   "mimetype": "text/x-python",
   "name": "python",
   "nbconvert_exporter": "python",
   "pygments_lexer": "ipython2",
   "version": "2.7.6"
  }
 },
 "nbformat": 4,
 "nbformat_minor": 5
}
